{
  "nbformat": 4,
  "nbformat_minor": 0,
  "metadata": {
    "colab": {
      "name": "Untitled6.ipynb",
      "provenance": []
    },
    "kernelspec": {
      "name": "python3",
      "display_name": "Python 3"
    },
    "language_info": {
      "name": "python"
    }
  },
  "cells": [
    {
      "cell_type": "code",
      "source": [
        "!pip install --upgrade pandas"
      ],
      "metadata": {
        "colab": {
          "base_uri": "https://localhost:8080/"
        },
        "id": "tFtiOTHUPtgV",
        "outputId": "f612e77f-ee9b-4da0-ec32-e6510195f981"
      },
      "execution_count": 1,
      "outputs": [
        {
          "output_type": "stream",
          "name": "stdout",
          "text": [
            "Looking in indexes: https://pypi.org/simple, https://us-python.pkg.dev/colab-wheels/public/simple/\n",
            "Requirement already satisfied: pandas in /usr/local/lib/python3.7/dist-packages (1.3.5)\n",
            "Requirement already satisfied: pytz>=2017.3 in /usr/local/lib/python3.7/dist-packages (from pandas) (2022.1)\n",
            "Requirement already satisfied: python-dateutil>=2.7.3 in /usr/local/lib/python3.7/dist-packages (from pandas) (2.8.2)\n",
            "Requirement already satisfied: numpy>=1.17.3 in /usr/local/lib/python3.7/dist-packages (from pandas) (1.21.6)\n",
            "Requirement already satisfied: six>=1.5 in /usr/local/lib/python3.7/dist-packages (from python-dateutil>=2.7.3->pandas) (1.15.0)\n"
          ]
        }
      ]
    },
    {
      "cell_type": "code",
      "source": [
        "!pip install xlrd>=1.2.0"
      ],
      "metadata": {
        "id": "qK6bPdbbP5G6"
      },
      "execution_count": 2,
      "outputs": []
    },
    {
      "cell_type": "code",
      "source": [
        "!pip install --upgrade xlrd"
      ],
      "metadata": {
        "colab": {
          "base_uri": "https://localhost:8080/"
        },
        "id": "3CYD4-MhQc5o",
        "outputId": "d24b9e4e-c0a3-4a89-c16b-124c2a7864ae"
      },
      "execution_count": 3,
      "outputs": [
        {
          "output_type": "stream",
          "name": "stdout",
          "text": [
            "Looking in indexes: https://pypi.org/simple, https://us-python.pkg.dev/colab-wheels/public/simple/\n",
            "Requirement already satisfied: xlrd in /usr/local/lib/python3.7/dist-packages (2.0.1)\n"
          ]
        }
      ]
    },
    {
      "cell_type": "code",
      "source": [
        "import pandas as pd\n",
        "import numpy as np\n",
        "import matplotlib.pyplot as plt\n",
        "import seaborn as sns"
      ],
      "metadata": {
        "id": "56MmtvuaQM-i"
      },
      "execution_count": 4,
      "outputs": []
    },
    {
      "cell_type": "code",
      "source": [
        "data = pd.read_excel('/content/DataAnalystTask.xlsx')"
      ],
      "metadata": {
        "id": "62Uo_ZQbNEj4"
      },
      "execution_count": 5,
      "outputs": []
    },
    {
      "cell_type": "code",
      "source": [
        "data"
      ],
      "metadata": {
        "colab": {
          "base_uri": "https://localhost:8080/",
          "height": 659
        },
        "id": "9B6bCRJONEel",
        "outputId": "ebd1affb-61a1-4d8b-8062-a9d97cab975d"
      },
      "execution_count": 6,
      "outputs": [
        {
          "output_type": "execute_result",
          "data": {
            "text/plain": [
              "        User ID Product Code Payment Status Coupon code Lead Registered Time  \\\n",
              "0         user1     Product1      Initiated         NaN  2022-08-01 04:55:00   \n",
              "1         user2     Product2      Initiated         NaN  2022-08-01 04:46:00   \n",
              "2         user4     Product3      Initiated         NaN  2022-08-01 03:21:00   \n",
              "3         user6     Product3      Initiated         NaN  2022-08-01 00:56:00   \n",
              "4         user8     Product4      Initiated         NaN  2022-08-01 00:46:00   \n",
              "...         ...          ...            ...         ...                  ...   \n",
              "9509   user7253   Product105           paid    Coupon94  2022-06-01 14:46:00   \n",
              "9510   user7253   Product105           paid         NaN  2022-06-01 12:36:00   \n",
              "9511   user7253   Product105           paid         NaN  2022-06-01 12:31:00   \n",
              "9512  user10657     Product2           paid         NaN  2022-06-01 07:20:00   \n",
              "9513  user10658    Product10         refund         NaN  2022-05-28 06:21:00   \n",
              "\n",
              "     Sales Date  Source  Product Amount with GST Payment Mode Currency  Code  \\\n",
              "0    2022-07-31  Direct                  3999.00          NaN            INR   \n",
              "1    2022-07-31  Direct                   999.00          NaN            INR   \n",
              "2    2022-07-31  Direct                  1999.00          NaN            INR   \n",
              "3    2022-07-31  Direct                  1999.00          NaN            INR   \n",
              "4    2022-07-31  Direct                  2022.00          NaN            INR   \n",
              "...         ...     ...                      ...          ...            ...   \n",
              "9509 2022-06-01  Direct                     7.92         card            INR   \n",
              "9510 2022-06-01  Direct                     8.10         card            INR   \n",
              "9511 2022-06-01  Direct                     7.92         card            INR   \n",
              "9512 2022-06-01  Direct                   999.00     paylater            INR   \n",
              "9513 2022-06-21  Direct                   999.00     paylater            INR   \n",
              "\n",
              "     Transaction Bank  \n",
              "0                 NaN  \n",
              "1                 NaN  \n",
              "2                 NaN  \n",
              "3                 NaN  \n",
              "4                 NaN  \n",
              "...               ...  \n",
              "9509              NaN  \n",
              "9510              NaN  \n",
              "9511              NaN  \n",
              "9512              NaN  \n",
              "9513              NaN  \n",
              "\n",
              "[9514 rows x 11 columns]"
            ],
            "text/html": [
              "\n",
              "  <div id=\"df-7eb0ea37-2885-4007-9ada-6b2809d0a8ab\">\n",
              "    <div class=\"colab-df-container\">\n",
              "      <div>\n",
              "<style scoped>\n",
              "    .dataframe tbody tr th:only-of-type {\n",
              "        vertical-align: middle;\n",
              "    }\n",
              "\n",
              "    .dataframe tbody tr th {\n",
              "        vertical-align: top;\n",
              "    }\n",
              "\n",
              "    .dataframe thead th {\n",
              "        text-align: right;\n",
              "    }\n",
              "</style>\n",
              "<table border=\"1\" class=\"dataframe\">\n",
              "  <thead>\n",
              "    <tr style=\"text-align: right;\">\n",
              "      <th></th>\n",
              "      <th>User ID</th>\n",
              "      <th>Product Code</th>\n",
              "      <th>Payment Status</th>\n",
              "      <th>Coupon code</th>\n",
              "      <th>Lead Registered Time</th>\n",
              "      <th>Sales Date</th>\n",
              "      <th>Source</th>\n",
              "      <th>Product Amount with GST</th>\n",
              "      <th>Payment Mode</th>\n",
              "      <th>Currency  Code</th>\n",
              "      <th>Transaction Bank</th>\n",
              "    </tr>\n",
              "  </thead>\n",
              "  <tbody>\n",
              "    <tr>\n",
              "      <th>0</th>\n",
              "      <td>user1</td>\n",
              "      <td>Product1</td>\n",
              "      <td>Initiated</td>\n",
              "      <td>NaN</td>\n",
              "      <td>2022-08-01 04:55:00</td>\n",
              "      <td>2022-07-31</td>\n",
              "      <td>Direct</td>\n",
              "      <td>3999.00</td>\n",
              "      <td>NaN</td>\n",
              "      <td>INR</td>\n",
              "      <td>NaN</td>\n",
              "    </tr>\n",
              "    <tr>\n",
              "      <th>1</th>\n",
              "      <td>user2</td>\n",
              "      <td>Product2</td>\n",
              "      <td>Initiated</td>\n",
              "      <td>NaN</td>\n",
              "      <td>2022-08-01 04:46:00</td>\n",
              "      <td>2022-07-31</td>\n",
              "      <td>Direct</td>\n",
              "      <td>999.00</td>\n",
              "      <td>NaN</td>\n",
              "      <td>INR</td>\n",
              "      <td>NaN</td>\n",
              "    </tr>\n",
              "    <tr>\n",
              "      <th>2</th>\n",
              "      <td>user4</td>\n",
              "      <td>Product3</td>\n",
              "      <td>Initiated</td>\n",
              "      <td>NaN</td>\n",
              "      <td>2022-08-01 03:21:00</td>\n",
              "      <td>2022-07-31</td>\n",
              "      <td>Direct</td>\n",
              "      <td>1999.00</td>\n",
              "      <td>NaN</td>\n",
              "      <td>INR</td>\n",
              "      <td>NaN</td>\n",
              "    </tr>\n",
              "    <tr>\n",
              "      <th>3</th>\n",
              "      <td>user6</td>\n",
              "      <td>Product3</td>\n",
              "      <td>Initiated</td>\n",
              "      <td>NaN</td>\n",
              "      <td>2022-08-01 00:56:00</td>\n",
              "      <td>2022-07-31</td>\n",
              "      <td>Direct</td>\n",
              "      <td>1999.00</td>\n",
              "      <td>NaN</td>\n",
              "      <td>INR</td>\n",
              "      <td>NaN</td>\n",
              "    </tr>\n",
              "    <tr>\n",
              "      <th>4</th>\n",
              "      <td>user8</td>\n",
              "      <td>Product4</td>\n",
              "      <td>Initiated</td>\n",
              "      <td>NaN</td>\n",
              "      <td>2022-08-01 00:46:00</td>\n",
              "      <td>2022-07-31</td>\n",
              "      <td>Direct</td>\n",
              "      <td>2022.00</td>\n",
              "      <td>NaN</td>\n",
              "      <td>INR</td>\n",
              "      <td>NaN</td>\n",
              "    </tr>\n",
              "    <tr>\n",
              "      <th>...</th>\n",
              "      <td>...</td>\n",
              "      <td>...</td>\n",
              "      <td>...</td>\n",
              "      <td>...</td>\n",
              "      <td>...</td>\n",
              "      <td>...</td>\n",
              "      <td>...</td>\n",
              "      <td>...</td>\n",
              "      <td>...</td>\n",
              "      <td>...</td>\n",
              "      <td>...</td>\n",
              "    </tr>\n",
              "    <tr>\n",
              "      <th>9509</th>\n",
              "      <td>user7253</td>\n",
              "      <td>Product105</td>\n",
              "      <td>paid</td>\n",
              "      <td>Coupon94</td>\n",
              "      <td>2022-06-01 14:46:00</td>\n",
              "      <td>2022-06-01</td>\n",
              "      <td>Direct</td>\n",
              "      <td>7.92</td>\n",
              "      <td>card</td>\n",
              "      <td>INR</td>\n",
              "      <td>NaN</td>\n",
              "    </tr>\n",
              "    <tr>\n",
              "      <th>9510</th>\n",
              "      <td>user7253</td>\n",
              "      <td>Product105</td>\n",
              "      <td>paid</td>\n",
              "      <td>NaN</td>\n",
              "      <td>2022-06-01 12:36:00</td>\n",
              "      <td>2022-06-01</td>\n",
              "      <td>Direct</td>\n",
              "      <td>8.10</td>\n",
              "      <td>card</td>\n",
              "      <td>INR</td>\n",
              "      <td>NaN</td>\n",
              "    </tr>\n",
              "    <tr>\n",
              "      <th>9511</th>\n",
              "      <td>user7253</td>\n",
              "      <td>Product105</td>\n",
              "      <td>paid</td>\n",
              "      <td>NaN</td>\n",
              "      <td>2022-06-01 12:31:00</td>\n",
              "      <td>2022-06-01</td>\n",
              "      <td>Direct</td>\n",
              "      <td>7.92</td>\n",
              "      <td>card</td>\n",
              "      <td>INR</td>\n",
              "      <td>NaN</td>\n",
              "    </tr>\n",
              "    <tr>\n",
              "      <th>9512</th>\n",
              "      <td>user10657</td>\n",
              "      <td>Product2</td>\n",
              "      <td>paid</td>\n",
              "      <td>NaN</td>\n",
              "      <td>2022-06-01 07:20:00</td>\n",
              "      <td>2022-06-01</td>\n",
              "      <td>Direct</td>\n",
              "      <td>999.00</td>\n",
              "      <td>paylater</td>\n",
              "      <td>INR</td>\n",
              "      <td>NaN</td>\n",
              "    </tr>\n",
              "    <tr>\n",
              "      <th>9513</th>\n",
              "      <td>user10658</td>\n",
              "      <td>Product10</td>\n",
              "      <td>refund</td>\n",
              "      <td>NaN</td>\n",
              "      <td>2022-05-28 06:21:00</td>\n",
              "      <td>2022-06-21</td>\n",
              "      <td>Direct</td>\n",
              "      <td>999.00</td>\n",
              "      <td>paylater</td>\n",
              "      <td>INR</td>\n",
              "      <td>NaN</td>\n",
              "    </tr>\n",
              "  </tbody>\n",
              "</table>\n",
              "<p>9514 rows × 11 columns</p>\n",
              "</div>\n",
              "      <button class=\"colab-df-convert\" onclick=\"convertToInteractive('df-7eb0ea37-2885-4007-9ada-6b2809d0a8ab')\"\n",
              "              title=\"Convert this dataframe to an interactive table.\"\n",
              "              style=\"display:none;\">\n",
              "        \n",
              "  <svg xmlns=\"http://www.w3.org/2000/svg\" height=\"24px\"viewBox=\"0 0 24 24\"\n",
              "       width=\"24px\">\n",
              "    <path d=\"M0 0h24v24H0V0z\" fill=\"none\"/>\n",
              "    <path d=\"M18.56 5.44l.94 2.06.94-2.06 2.06-.94-2.06-.94-.94-2.06-.94 2.06-2.06.94zm-11 1L8.5 8.5l.94-2.06 2.06-.94-2.06-.94L8.5 2.5l-.94 2.06-2.06.94zm10 10l.94 2.06.94-2.06 2.06-.94-2.06-.94-.94-2.06-.94 2.06-2.06.94z\"/><path d=\"M17.41 7.96l-1.37-1.37c-.4-.4-.92-.59-1.43-.59-.52 0-1.04.2-1.43.59L10.3 9.45l-7.72 7.72c-.78.78-.78 2.05 0 2.83L4 21.41c.39.39.9.59 1.41.59.51 0 1.02-.2 1.41-.59l7.78-7.78 2.81-2.81c.8-.78.8-2.07 0-2.86zM5.41 20L4 18.59l7.72-7.72 1.47 1.35L5.41 20z\"/>\n",
              "  </svg>\n",
              "      </button>\n",
              "      \n",
              "  <style>\n",
              "    .colab-df-container {\n",
              "      display:flex;\n",
              "      flex-wrap:wrap;\n",
              "      gap: 12px;\n",
              "    }\n",
              "\n",
              "    .colab-df-convert {\n",
              "      background-color: #E8F0FE;\n",
              "      border: none;\n",
              "      border-radius: 50%;\n",
              "      cursor: pointer;\n",
              "      display: none;\n",
              "      fill: #1967D2;\n",
              "      height: 32px;\n",
              "      padding: 0 0 0 0;\n",
              "      width: 32px;\n",
              "    }\n",
              "\n",
              "    .colab-df-convert:hover {\n",
              "      background-color: #E2EBFA;\n",
              "      box-shadow: 0px 1px 2px rgba(60, 64, 67, 0.3), 0px 1px 3px 1px rgba(60, 64, 67, 0.15);\n",
              "      fill: #174EA6;\n",
              "    }\n",
              "\n",
              "    [theme=dark] .colab-df-convert {\n",
              "      background-color: #3B4455;\n",
              "      fill: #D2E3FC;\n",
              "    }\n",
              "\n",
              "    [theme=dark] .colab-df-convert:hover {\n",
              "      background-color: #434B5C;\n",
              "      box-shadow: 0px 1px 3px 1px rgba(0, 0, 0, 0.15);\n",
              "      filter: drop-shadow(0px 1px 2px rgba(0, 0, 0, 0.3));\n",
              "      fill: #FFFFFF;\n",
              "    }\n",
              "  </style>\n",
              "\n",
              "      <script>\n",
              "        const buttonEl =\n",
              "          document.querySelector('#df-7eb0ea37-2885-4007-9ada-6b2809d0a8ab button.colab-df-convert');\n",
              "        buttonEl.style.display =\n",
              "          google.colab.kernel.accessAllowed ? 'block' : 'none';\n",
              "\n",
              "        async function convertToInteractive(key) {\n",
              "          const element = document.querySelector('#df-7eb0ea37-2885-4007-9ada-6b2809d0a8ab');\n",
              "          const dataTable =\n",
              "            await google.colab.kernel.invokeFunction('convertToInteractive',\n",
              "                                                     [key], {});\n",
              "          if (!dataTable) return;\n",
              "\n",
              "          const docLinkHtml = 'Like what you see? Visit the ' +\n",
              "            '<a target=\"_blank\" href=https://colab.research.google.com/notebooks/data_table.ipynb>data table notebook</a>'\n",
              "            + ' to learn more about interactive tables.';\n",
              "          element.innerHTML = '';\n",
              "          dataTable['output_type'] = 'display_data';\n",
              "          await google.colab.output.renderOutput(dataTable, element);\n",
              "          const docLink = document.createElement('div');\n",
              "          docLink.innerHTML = docLinkHtml;\n",
              "          element.appendChild(docLink);\n",
              "        }\n",
              "      </script>\n",
              "    </div>\n",
              "  </div>\n",
              "  "
            ]
          },
          "metadata": {},
          "execution_count": 6
        }
      ]
    },
    {
      "cell_type": "code",
      "source": [
        "data.columns"
      ],
      "metadata": {
        "colab": {
          "base_uri": "https://localhost:8080/"
        },
        "id": "D76VyANVTD-h",
        "outputId": "30fa0230-3aae-434a-c541-75b1c4c32e4d"
      },
      "execution_count": 7,
      "outputs": [
        {
          "output_type": "execute_result",
          "data": {
            "text/plain": [
              "Index(['User ID', 'Product Code', 'Payment Status', 'Coupon code',\n",
              "       'Lead Registered Time', 'Sales Date', 'Source',\n",
              "       'Product Amount with GST', 'Payment Mode', 'Currency  Code',\n",
              "       'Transaction Bank'],\n",
              "      dtype='object')"
            ]
          },
          "metadata": {},
          "execution_count": 7
        }
      ]
    },
    {
      "cell_type": "code",
      "source": [
        "data.isnull().sum()"
      ],
      "metadata": {
        "colab": {
          "base_uri": "https://localhost:8080/"
        },
        "id": "OyB-M1KRUBZM",
        "outputId": "76a79503-4a2f-467f-8fbb-1f653dd46d30"
      },
      "execution_count": 8,
      "outputs": [
        {
          "output_type": "execute_result",
          "data": {
            "text/plain": [
              "User ID                       0\n",
              "Product Code                  0\n",
              "Payment Status                0\n",
              "Coupon code                8852\n",
              "Lead Registered Time          0\n",
              "Sales Date                    0\n",
              "Source                        0\n",
              "Product Amount with GST       1\n",
              "Payment Mode               7784\n",
              "Currency  Code                0\n",
              "Transaction Bank           9422\n",
              "dtype: int64"
            ]
          },
          "metadata": {},
          "execution_count": 8
        }
      ]
    },
    {
      "cell_type": "code",
      "source": [
        "## check columns one by one\n",
        "data['Product Code'].unique()\n",
        " "
      ],
      "metadata": {
        "colab": {
          "base_uri": "https://localhost:8080/"
        },
        "id": "Y6vIkIxiNEc2",
        "outputId": "609d91a9-02f9-4634-e767-1febeaae294d"
      },
      "execution_count": 9,
      "outputs": [
        {
          "output_type": "execute_result",
          "data": {
            "text/plain": [
              "array(['Product1', 'Product2', 'Product3', 'Product4', 'Product5',\n",
              "       'Product6', 'Product7', 'Product8', 'Product9', 'Product10',\n",
              "       'Product11', 'Product12', 'Product13', 'Product14', 'Product15',\n",
              "       'Product16', 'Product17', 'Product18', 'Product19', 'Product20',\n",
              "       'Product21', 'Product22', 'Product23', 'Product24', 'Product25',\n",
              "       'Product26', 'Product27', 'Product28', 'Product29', 'Product30',\n",
              "       'Product31', 'Product32', 'Product33', 'Product34', 'Product35',\n",
              "       'Product36', 'Product37', 'Product38', 'Product39', 'Product40',\n",
              "       'Product41', 'Product42', 'Product43', 'Product44', 'Product45',\n",
              "       'Product46', 'Product47', 'Product48', 'Product49', 'Product50',\n",
              "       'Product51', 'Product52', 'Product53', 'Product54', 'Product55',\n",
              "       'Product56', 'Product57', 'Product58', 'Product59', 'Product60',\n",
              "       'Product61', 'Product62', 'Product63', 'Product64', 'Product65',\n",
              "       'Product66', 'Product67', 'Product68', 'Product69', 'Product70',\n",
              "       'Product71', 'Product72', 'Product73', 'Product74', 'Product75',\n",
              "       'Product76', 'Product77', 'Product78', 'Product79', 'Product80',\n",
              "       'Product81', 'Product82', 'Product83', 'Product84', 'Product85',\n",
              "       'Product86', 'Product87', 'Product88', 'Product89', 'Product90',\n",
              "       'Product91', 'Product92', 'Product93', 'Product94', 'Product95',\n",
              "       'Product96', 'Product97', 'Product98', 'Product99', 'Product100',\n",
              "       'Product101', 'Product102', 'Product103', 'Product104',\n",
              "       'Product105', 'Product106', 'Product107', 'Product108',\n",
              "       'Product109', 'Product110', 'Product111', 'Product112',\n",
              "       'Product113', 'Product114', 'Product115', 'Product116',\n",
              "       'Product117', 'Product118', 'Product119', 'Product120',\n",
              "       'Product121', 'Product122', 'Product123', 'Product124',\n",
              "       'Product125', 'Product126', 'Product127', 'Product128',\n",
              "       'Product129', 'Product130', 'Product131', 'Product132',\n",
              "       'Product133', 'Product134', 'Product135', 'Product136',\n",
              "       'Product137', 'Product138', 'Product139', 'Product140',\n",
              "       'Product141'], dtype=object)"
            ]
          },
          "metadata": {},
          "execution_count": 9
        }
      ]
    },
    {
      "cell_type": "code",
      "source": [
        "data['Payment Status'].unique()"
      ],
      "metadata": {
        "colab": {
          "base_uri": "https://localhost:8080/"
        },
        "id": "AhR6naFhNEaD",
        "outputId": "4abba7b5-363f-4bf0-a4ee-01d4d1879d38"
      },
      "execution_count": 10,
      "outputs": [
        {
          "output_type": "execute_result",
          "data": {
            "text/plain": [
              "array(['Initiated', 'paid', 'refund'], dtype=object)"
            ]
          },
          "metadata": {},
          "execution_count": 10
        }
      ]
    },
    {
      "cell_type": "code",
      "source": [
        "data['Coupon code'].unique()"
      ],
      "metadata": {
        "colab": {
          "base_uri": "https://localhost:8080/"
        },
        "id": "GgCLmfpNNEW-",
        "outputId": "652f1d64-7fae-4dca-9ad6-03defffc040b"
      },
      "execution_count": 11,
      "outputs": [
        {
          "output_type": "execute_result",
          "data": {
            "text/plain": [
              "array([nan, 'Coupon1', 'Coupon2', 'Coupon3', 'Coupon4', 'Coupon5',\n",
              "       'Coupon6', 'Coupon7', 'Coupon8', 'Coupon9', 'Coupon10', 'Coupon11',\n",
              "       'Coupon12', 'Coupon13', 'Coupon14', 'Coupon15', 'Coupon16',\n",
              "       'Coupon17', 'Coupon18', 'Coupon19', 'Coupon20', 'Coupon21',\n",
              "       'Coupon22', 'Coupon23', 'Coupon24', 'Coupon25', 'Coupon26',\n",
              "       'Coupon27', 'Coupon28', 'Coupon29', 'Coupon30', 'Coupon31',\n",
              "       'Coupon32', 'Coupon33', 'Coupon34', 'Coupon35', 'Coupon36',\n",
              "       'Coupon37', 'Coupon38', 'Coupon39', 'Coupon40', 'Coupon41',\n",
              "       'Coupon42', 'Coupon43', 'Coupon44', 'Coupon45', 'Coupon46',\n",
              "       'Coupon47', 'Coupon48', 'Coupon49', 'Coupon50', 'Coupon51',\n",
              "       'Coupon52', 'Coupon53', 'Coupon54', 'Coupon55', 'Coupon56',\n",
              "       'Coupon57', 'Coupon58', 'Coupon59', 'Coupon60', 'Coupon61',\n",
              "       'Coupon62', 'Coupon63', 'Coupon64', 'Coupon65', 'Coupon66',\n",
              "       'Coupon67', 'Coupon68', 'Coupon69', 'Coupon70', 'Coupon71',\n",
              "       'Coupon72', 'Coupon73', 'Coupon74', 'Coupon75', 'Coupon76',\n",
              "       'Coupon77', 'Coupon78', 'Coupon79', 'Coupon80', 'Coupon81',\n",
              "       'Coupon82', 'Coupon83', 'Coupon84', 'Coupon85', 'Coupon86',\n",
              "       'Coupon87', 'Coupon88', 'Coupon89', 'Coupon90', 'Coupon91',\n",
              "       'Coupon92', 'Coupon93', 'Coupon94'], dtype=object)"
            ]
          },
          "metadata": {},
          "execution_count": 11
        }
      ]
    },
    {
      "cell_type": "code",
      "source": [
        "data['Source'].unique()"
      ],
      "metadata": {
        "colab": {
          "base_uri": "https://localhost:8080/"
        },
        "id": "fKsv9D-cTtpf",
        "outputId": "f746e0ea-bb8b-410a-f324-bd00918f0648"
      },
      "execution_count": 12,
      "outputs": [
        {
          "output_type": "execute_result",
          "data": {
            "text/plain": [
              "array(['Direct', 'Influencer', 'Email', 'Paid'], dtype=object)"
            ]
          },
          "metadata": {},
          "execution_count": 12
        }
      ]
    },
    {
      "cell_type": "code",
      "source": [
        "data['Payment Mode'].unique()"
      ],
      "metadata": {
        "colab": {
          "base_uri": "https://localhost:8080/"
        },
        "id": "iLSROumwTtmv",
        "outputId": "8a45f0b9-3c28-4ddb-d4ed-e17f5fdf91cf"
      },
      "execution_count": 13,
      "outputs": [
        {
          "output_type": "execute_result",
          "data": {
            "text/plain": [
              "array([nan, 'wallet', 'upi', 'paylater', 'netbanking', 'card',\n",
              "       'cardless_emi', 'emi'], dtype=object)"
            ]
          },
          "metadata": {},
          "execution_count": 13
        }
      ]
    },
    {
      "cell_type": "code",
      "source": [
        "data['Currency  Code'].unique()"
      ],
      "metadata": {
        "colab": {
          "base_uri": "https://localhost:8080/"
        },
        "id": "OROc2excTthf",
        "outputId": "37371387-d0cc-4ac0-8e32-71a43c9324ff"
      },
      "execution_count": 14,
      "outputs": [
        {
          "output_type": "execute_result",
          "data": {
            "text/plain": [
              "array(['INR', 'USD'], dtype=object)"
            ]
          },
          "metadata": {},
          "execution_count": 14
        }
      ]
    },
    {
      "cell_type": "code",
      "source": [
        "data['Transaction Bank'].unique()"
      ],
      "metadata": {
        "colab": {
          "base_uri": "https://localhost:8080/"
        },
        "id": "53KFzcS4Tteo",
        "outputId": "81228d0b-0612-4dfb-a703-a11cc8203b6e"
      },
      "execution_count": 15,
      "outputs": [
        {
          "output_type": "execute_result",
          "data": {
            "text/plain": [
              "array([nan, 'ICIC', 'HDFC', 'KKBK', 'IDIB', 'CIUB', 'SBIN', 'IOBA',\n",
              "       'UBIN', 'YESB', 'HSBC', 'CNRB', 'INDB', 'TMBL'], dtype=object)"
            ]
          },
          "metadata": {},
          "execution_count": 15
        }
      ]
    },
    {
      "cell_type": "code",
      "source": [
        "data = data.drop(columns = ['User ID','Transaction Bank'])"
      ],
      "metadata": {
        "id": "WsAgu2ibTtbo"
      },
      "execution_count": 16,
      "outputs": []
    },
    {
      "cell_type": "code",
      "source": [
        "data"
      ],
      "metadata": {
        "colab": {
          "base_uri": "https://localhost:8080/",
          "height": 424
        },
        "id": "fiSHqKLqTtZQ",
        "outputId": "73fbd3a0-a890-4b68-acdd-52007a3b0aab"
      },
      "execution_count": 17,
      "outputs": [
        {
          "output_type": "execute_result",
          "data": {
            "text/plain": [
              "     Product Code Payment Status Coupon code Lead Registered Time Sales Date  \\\n",
              "0        Product1      Initiated         NaN  2022-08-01 04:55:00 2022-07-31   \n",
              "1        Product2      Initiated         NaN  2022-08-01 04:46:00 2022-07-31   \n",
              "2        Product3      Initiated         NaN  2022-08-01 03:21:00 2022-07-31   \n",
              "3        Product3      Initiated         NaN  2022-08-01 00:56:00 2022-07-31   \n",
              "4        Product4      Initiated         NaN  2022-08-01 00:46:00 2022-07-31   \n",
              "...           ...            ...         ...                  ...        ...   \n",
              "9509   Product105           paid    Coupon94  2022-06-01 14:46:00 2022-06-01   \n",
              "9510   Product105           paid         NaN  2022-06-01 12:36:00 2022-06-01   \n",
              "9511   Product105           paid         NaN  2022-06-01 12:31:00 2022-06-01   \n",
              "9512     Product2           paid         NaN  2022-06-01 07:20:00 2022-06-01   \n",
              "9513    Product10         refund         NaN  2022-05-28 06:21:00 2022-06-21   \n",
              "\n",
              "      Source  Product Amount with GST Payment Mode Currency  Code  \n",
              "0     Direct                  3999.00          NaN            INR  \n",
              "1     Direct                   999.00          NaN            INR  \n",
              "2     Direct                  1999.00          NaN            INR  \n",
              "3     Direct                  1999.00          NaN            INR  \n",
              "4     Direct                  2022.00          NaN            INR  \n",
              "...      ...                      ...          ...            ...  \n",
              "9509  Direct                     7.92         card            INR  \n",
              "9510  Direct                     8.10         card            INR  \n",
              "9511  Direct                     7.92         card            INR  \n",
              "9512  Direct                   999.00     paylater            INR  \n",
              "9513  Direct                   999.00     paylater            INR  \n",
              "\n",
              "[9514 rows x 9 columns]"
            ],
            "text/html": [
              "\n",
              "  <div id=\"df-a92402fb-b0c1-4cb8-b8ce-49b98cd17191\">\n",
              "    <div class=\"colab-df-container\">\n",
              "      <div>\n",
              "<style scoped>\n",
              "    .dataframe tbody tr th:only-of-type {\n",
              "        vertical-align: middle;\n",
              "    }\n",
              "\n",
              "    .dataframe tbody tr th {\n",
              "        vertical-align: top;\n",
              "    }\n",
              "\n",
              "    .dataframe thead th {\n",
              "        text-align: right;\n",
              "    }\n",
              "</style>\n",
              "<table border=\"1\" class=\"dataframe\">\n",
              "  <thead>\n",
              "    <tr style=\"text-align: right;\">\n",
              "      <th></th>\n",
              "      <th>Product Code</th>\n",
              "      <th>Payment Status</th>\n",
              "      <th>Coupon code</th>\n",
              "      <th>Lead Registered Time</th>\n",
              "      <th>Sales Date</th>\n",
              "      <th>Source</th>\n",
              "      <th>Product Amount with GST</th>\n",
              "      <th>Payment Mode</th>\n",
              "      <th>Currency  Code</th>\n",
              "    </tr>\n",
              "  </thead>\n",
              "  <tbody>\n",
              "    <tr>\n",
              "      <th>0</th>\n",
              "      <td>Product1</td>\n",
              "      <td>Initiated</td>\n",
              "      <td>NaN</td>\n",
              "      <td>2022-08-01 04:55:00</td>\n",
              "      <td>2022-07-31</td>\n",
              "      <td>Direct</td>\n",
              "      <td>3999.00</td>\n",
              "      <td>NaN</td>\n",
              "      <td>INR</td>\n",
              "    </tr>\n",
              "    <tr>\n",
              "      <th>1</th>\n",
              "      <td>Product2</td>\n",
              "      <td>Initiated</td>\n",
              "      <td>NaN</td>\n",
              "      <td>2022-08-01 04:46:00</td>\n",
              "      <td>2022-07-31</td>\n",
              "      <td>Direct</td>\n",
              "      <td>999.00</td>\n",
              "      <td>NaN</td>\n",
              "      <td>INR</td>\n",
              "    </tr>\n",
              "    <tr>\n",
              "      <th>2</th>\n",
              "      <td>Product3</td>\n",
              "      <td>Initiated</td>\n",
              "      <td>NaN</td>\n",
              "      <td>2022-08-01 03:21:00</td>\n",
              "      <td>2022-07-31</td>\n",
              "      <td>Direct</td>\n",
              "      <td>1999.00</td>\n",
              "      <td>NaN</td>\n",
              "      <td>INR</td>\n",
              "    </tr>\n",
              "    <tr>\n",
              "      <th>3</th>\n",
              "      <td>Product3</td>\n",
              "      <td>Initiated</td>\n",
              "      <td>NaN</td>\n",
              "      <td>2022-08-01 00:56:00</td>\n",
              "      <td>2022-07-31</td>\n",
              "      <td>Direct</td>\n",
              "      <td>1999.00</td>\n",
              "      <td>NaN</td>\n",
              "      <td>INR</td>\n",
              "    </tr>\n",
              "    <tr>\n",
              "      <th>4</th>\n",
              "      <td>Product4</td>\n",
              "      <td>Initiated</td>\n",
              "      <td>NaN</td>\n",
              "      <td>2022-08-01 00:46:00</td>\n",
              "      <td>2022-07-31</td>\n",
              "      <td>Direct</td>\n",
              "      <td>2022.00</td>\n",
              "      <td>NaN</td>\n",
              "      <td>INR</td>\n",
              "    </tr>\n",
              "    <tr>\n",
              "      <th>...</th>\n",
              "      <td>...</td>\n",
              "      <td>...</td>\n",
              "      <td>...</td>\n",
              "      <td>...</td>\n",
              "      <td>...</td>\n",
              "      <td>...</td>\n",
              "      <td>...</td>\n",
              "      <td>...</td>\n",
              "      <td>...</td>\n",
              "    </tr>\n",
              "    <tr>\n",
              "      <th>9509</th>\n",
              "      <td>Product105</td>\n",
              "      <td>paid</td>\n",
              "      <td>Coupon94</td>\n",
              "      <td>2022-06-01 14:46:00</td>\n",
              "      <td>2022-06-01</td>\n",
              "      <td>Direct</td>\n",
              "      <td>7.92</td>\n",
              "      <td>card</td>\n",
              "      <td>INR</td>\n",
              "    </tr>\n",
              "    <tr>\n",
              "      <th>9510</th>\n",
              "      <td>Product105</td>\n",
              "      <td>paid</td>\n",
              "      <td>NaN</td>\n",
              "      <td>2022-06-01 12:36:00</td>\n",
              "      <td>2022-06-01</td>\n",
              "      <td>Direct</td>\n",
              "      <td>8.10</td>\n",
              "      <td>card</td>\n",
              "      <td>INR</td>\n",
              "    </tr>\n",
              "    <tr>\n",
              "      <th>9511</th>\n",
              "      <td>Product105</td>\n",
              "      <td>paid</td>\n",
              "      <td>NaN</td>\n",
              "      <td>2022-06-01 12:31:00</td>\n",
              "      <td>2022-06-01</td>\n",
              "      <td>Direct</td>\n",
              "      <td>7.92</td>\n",
              "      <td>card</td>\n",
              "      <td>INR</td>\n",
              "    </tr>\n",
              "    <tr>\n",
              "      <th>9512</th>\n",
              "      <td>Product2</td>\n",
              "      <td>paid</td>\n",
              "      <td>NaN</td>\n",
              "      <td>2022-06-01 07:20:00</td>\n",
              "      <td>2022-06-01</td>\n",
              "      <td>Direct</td>\n",
              "      <td>999.00</td>\n",
              "      <td>paylater</td>\n",
              "      <td>INR</td>\n",
              "    </tr>\n",
              "    <tr>\n",
              "      <th>9513</th>\n",
              "      <td>Product10</td>\n",
              "      <td>refund</td>\n",
              "      <td>NaN</td>\n",
              "      <td>2022-05-28 06:21:00</td>\n",
              "      <td>2022-06-21</td>\n",
              "      <td>Direct</td>\n",
              "      <td>999.00</td>\n",
              "      <td>paylater</td>\n",
              "      <td>INR</td>\n",
              "    </tr>\n",
              "  </tbody>\n",
              "</table>\n",
              "<p>9514 rows × 9 columns</p>\n",
              "</div>\n",
              "      <button class=\"colab-df-convert\" onclick=\"convertToInteractive('df-a92402fb-b0c1-4cb8-b8ce-49b98cd17191')\"\n",
              "              title=\"Convert this dataframe to an interactive table.\"\n",
              "              style=\"display:none;\">\n",
              "        \n",
              "  <svg xmlns=\"http://www.w3.org/2000/svg\" height=\"24px\"viewBox=\"0 0 24 24\"\n",
              "       width=\"24px\">\n",
              "    <path d=\"M0 0h24v24H0V0z\" fill=\"none\"/>\n",
              "    <path d=\"M18.56 5.44l.94 2.06.94-2.06 2.06-.94-2.06-.94-.94-2.06-.94 2.06-2.06.94zm-11 1L8.5 8.5l.94-2.06 2.06-.94-2.06-.94L8.5 2.5l-.94 2.06-2.06.94zm10 10l.94 2.06.94-2.06 2.06-.94-2.06-.94-.94-2.06-.94 2.06-2.06.94z\"/><path d=\"M17.41 7.96l-1.37-1.37c-.4-.4-.92-.59-1.43-.59-.52 0-1.04.2-1.43.59L10.3 9.45l-7.72 7.72c-.78.78-.78 2.05 0 2.83L4 21.41c.39.39.9.59 1.41.59.51 0 1.02-.2 1.41-.59l7.78-7.78 2.81-2.81c.8-.78.8-2.07 0-2.86zM5.41 20L4 18.59l7.72-7.72 1.47 1.35L5.41 20z\"/>\n",
              "  </svg>\n",
              "      </button>\n",
              "      \n",
              "  <style>\n",
              "    .colab-df-container {\n",
              "      display:flex;\n",
              "      flex-wrap:wrap;\n",
              "      gap: 12px;\n",
              "    }\n",
              "\n",
              "    .colab-df-convert {\n",
              "      background-color: #E8F0FE;\n",
              "      border: none;\n",
              "      border-radius: 50%;\n",
              "      cursor: pointer;\n",
              "      display: none;\n",
              "      fill: #1967D2;\n",
              "      height: 32px;\n",
              "      padding: 0 0 0 0;\n",
              "      width: 32px;\n",
              "    }\n",
              "\n",
              "    .colab-df-convert:hover {\n",
              "      background-color: #E2EBFA;\n",
              "      box-shadow: 0px 1px 2px rgba(60, 64, 67, 0.3), 0px 1px 3px 1px rgba(60, 64, 67, 0.15);\n",
              "      fill: #174EA6;\n",
              "    }\n",
              "\n",
              "    [theme=dark] .colab-df-convert {\n",
              "      background-color: #3B4455;\n",
              "      fill: #D2E3FC;\n",
              "    }\n",
              "\n",
              "    [theme=dark] .colab-df-convert:hover {\n",
              "      background-color: #434B5C;\n",
              "      box-shadow: 0px 1px 3px 1px rgba(0, 0, 0, 0.15);\n",
              "      filter: drop-shadow(0px 1px 2px rgba(0, 0, 0, 0.3));\n",
              "      fill: #FFFFFF;\n",
              "    }\n",
              "  </style>\n",
              "\n",
              "      <script>\n",
              "        const buttonEl =\n",
              "          document.querySelector('#df-a92402fb-b0c1-4cb8-b8ce-49b98cd17191 button.colab-df-convert');\n",
              "        buttonEl.style.display =\n",
              "          google.colab.kernel.accessAllowed ? 'block' : 'none';\n",
              "\n",
              "        async function convertToInteractive(key) {\n",
              "          const element = document.querySelector('#df-a92402fb-b0c1-4cb8-b8ce-49b98cd17191');\n",
              "          const dataTable =\n",
              "            await google.colab.kernel.invokeFunction('convertToInteractive',\n",
              "                                                     [key], {});\n",
              "          if (!dataTable) return;\n",
              "\n",
              "          const docLinkHtml = 'Like what you see? Visit the ' +\n",
              "            '<a target=\"_blank\" href=https://colab.research.google.com/notebooks/data_table.ipynb>data table notebook</a>'\n",
              "            + ' to learn more about interactive tables.';\n",
              "          element.innerHTML = '';\n",
              "          dataTable['output_type'] = 'display_data';\n",
              "          await google.colab.output.renderOutput(dataTable, element);\n",
              "          const docLink = document.createElement('div');\n",
              "          docLink.innerHTML = docLinkHtml;\n",
              "          element.appendChild(docLink);\n",
              "        }\n",
              "      </script>\n",
              "    </div>\n",
              "  </div>\n",
              "  "
            ]
          },
          "metadata": {},
          "execution_count": 17
        }
      ]
    },
    {
      "cell_type": "code",
      "source": [
        "## now we should chnage datetime into date columns\n",
        "\n",
        "## here we find that the date column in string so we want covert to datetime\n",
        "import datetime \n",
        "\n",
        "data['Sales Date']= pd.to_datetime(data['Sales Date'])\n"
      ],
      "metadata": {
        "id": "r3Itm2GVTtVg"
      },
      "execution_count": 18,
      "outputs": []
    },
    {
      "cell_type": "code",
      "source": [
        "data['Lead Registered Time']= pd.to_datetime(data['Lead Registered Time'])"
      ],
      "metadata": {
        "id": "Q9AB0uU9ZnCS"
      },
      "execution_count": 19,
      "outputs": []
    },
    {
      "cell_type": "code",
      "source": [
        "data"
      ],
      "metadata": {
        "colab": {
          "base_uri": "https://localhost:8080/",
          "height": 424
        },
        "id": "0F6WqxZrTtP7",
        "outputId": "3925c220-80b3-4849-a00a-8ff5bf424547"
      },
      "execution_count": 20,
      "outputs": [
        {
          "output_type": "execute_result",
          "data": {
            "text/plain": [
              "     Product Code Payment Status Coupon code Lead Registered Time Sales Date  \\\n",
              "0        Product1      Initiated         NaN  2022-08-01 04:55:00 2022-07-31   \n",
              "1        Product2      Initiated         NaN  2022-08-01 04:46:00 2022-07-31   \n",
              "2        Product3      Initiated         NaN  2022-08-01 03:21:00 2022-07-31   \n",
              "3        Product3      Initiated         NaN  2022-08-01 00:56:00 2022-07-31   \n",
              "4        Product4      Initiated         NaN  2022-08-01 00:46:00 2022-07-31   \n",
              "...           ...            ...         ...                  ...        ...   \n",
              "9509   Product105           paid    Coupon94  2022-06-01 14:46:00 2022-06-01   \n",
              "9510   Product105           paid         NaN  2022-06-01 12:36:00 2022-06-01   \n",
              "9511   Product105           paid         NaN  2022-06-01 12:31:00 2022-06-01   \n",
              "9512     Product2           paid         NaN  2022-06-01 07:20:00 2022-06-01   \n",
              "9513    Product10         refund         NaN  2022-05-28 06:21:00 2022-06-21   \n",
              "\n",
              "      Source  Product Amount with GST Payment Mode Currency  Code  \n",
              "0     Direct                  3999.00          NaN            INR  \n",
              "1     Direct                   999.00          NaN            INR  \n",
              "2     Direct                  1999.00          NaN            INR  \n",
              "3     Direct                  1999.00          NaN            INR  \n",
              "4     Direct                  2022.00          NaN            INR  \n",
              "...      ...                      ...          ...            ...  \n",
              "9509  Direct                     7.92         card            INR  \n",
              "9510  Direct                     8.10         card            INR  \n",
              "9511  Direct                     7.92         card            INR  \n",
              "9512  Direct                   999.00     paylater            INR  \n",
              "9513  Direct                   999.00     paylater            INR  \n",
              "\n",
              "[9514 rows x 9 columns]"
            ],
            "text/html": [
              "\n",
              "  <div id=\"df-569036f2-67b3-4cd6-83f2-e55b803784a1\">\n",
              "    <div class=\"colab-df-container\">\n",
              "      <div>\n",
              "<style scoped>\n",
              "    .dataframe tbody tr th:only-of-type {\n",
              "        vertical-align: middle;\n",
              "    }\n",
              "\n",
              "    .dataframe tbody tr th {\n",
              "        vertical-align: top;\n",
              "    }\n",
              "\n",
              "    .dataframe thead th {\n",
              "        text-align: right;\n",
              "    }\n",
              "</style>\n",
              "<table border=\"1\" class=\"dataframe\">\n",
              "  <thead>\n",
              "    <tr style=\"text-align: right;\">\n",
              "      <th></th>\n",
              "      <th>Product Code</th>\n",
              "      <th>Payment Status</th>\n",
              "      <th>Coupon code</th>\n",
              "      <th>Lead Registered Time</th>\n",
              "      <th>Sales Date</th>\n",
              "      <th>Source</th>\n",
              "      <th>Product Amount with GST</th>\n",
              "      <th>Payment Mode</th>\n",
              "      <th>Currency  Code</th>\n",
              "    </tr>\n",
              "  </thead>\n",
              "  <tbody>\n",
              "    <tr>\n",
              "      <th>0</th>\n",
              "      <td>Product1</td>\n",
              "      <td>Initiated</td>\n",
              "      <td>NaN</td>\n",
              "      <td>2022-08-01 04:55:00</td>\n",
              "      <td>2022-07-31</td>\n",
              "      <td>Direct</td>\n",
              "      <td>3999.00</td>\n",
              "      <td>NaN</td>\n",
              "      <td>INR</td>\n",
              "    </tr>\n",
              "    <tr>\n",
              "      <th>1</th>\n",
              "      <td>Product2</td>\n",
              "      <td>Initiated</td>\n",
              "      <td>NaN</td>\n",
              "      <td>2022-08-01 04:46:00</td>\n",
              "      <td>2022-07-31</td>\n",
              "      <td>Direct</td>\n",
              "      <td>999.00</td>\n",
              "      <td>NaN</td>\n",
              "      <td>INR</td>\n",
              "    </tr>\n",
              "    <tr>\n",
              "      <th>2</th>\n",
              "      <td>Product3</td>\n",
              "      <td>Initiated</td>\n",
              "      <td>NaN</td>\n",
              "      <td>2022-08-01 03:21:00</td>\n",
              "      <td>2022-07-31</td>\n",
              "      <td>Direct</td>\n",
              "      <td>1999.00</td>\n",
              "      <td>NaN</td>\n",
              "      <td>INR</td>\n",
              "    </tr>\n",
              "    <tr>\n",
              "      <th>3</th>\n",
              "      <td>Product3</td>\n",
              "      <td>Initiated</td>\n",
              "      <td>NaN</td>\n",
              "      <td>2022-08-01 00:56:00</td>\n",
              "      <td>2022-07-31</td>\n",
              "      <td>Direct</td>\n",
              "      <td>1999.00</td>\n",
              "      <td>NaN</td>\n",
              "      <td>INR</td>\n",
              "    </tr>\n",
              "    <tr>\n",
              "      <th>4</th>\n",
              "      <td>Product4</td>\n",
              "      <td>Initiated</td>\n",
              "      <td>NaN</td>\n",
              "      <td>2022-08-01 00:46:00</td>\n",
              "      <td>2022-07-31</td>\n",
              "      <td>Direct</td>\n",
              "      <td>2022.00</td>\n",
              "      <td>NaN</td>\n",
              "      <td>INR</td>\n",
              "    </tr>\n",
              "    <tr>\n",
              "      <th>...</th>\n",
              "      <td>...</td>\n",
              "      <td>...</td>\n",
              "      <td>...</td>\n",
              "      <td>...</td>\n",
              "      <td>...</td>\n",
              "      <td>...</td>\n",
              "      <td>...</td>\n",
              "      <td>...</td>\n",
              "      <td>...</td>\n",
              "    </tr>\n",
              "    <tr>\n",
              "      <th>9509</th>\n",
              "      <td>Product105</td>\n",
              "      <td>paid</td>\n",
              "      <td>Coupon94</td>\n",
              "      <td>2022-06-01 14:46:00</td>\n",
              "      <td>2022-06-01</td>\n",
              "      <td>Direct</td>\n",
              "      <td>7.92</td>\n",
              "      <td>card</td>\n",
              "      <td>INR</td>\n",
              "    </tr>\n",
              "    <tr>\n",
              "      <th>9510</th>\n",
              "      <td>Product105</td>\n",
              "      <td>paid</td>\n",
              "      <td>NaN</td>\n",
              "      <td>2022-06-01 12:36:00</td>\n",
              "      <td>2022-06-01</td>\n",
              "      <td>Direct</td>\n",
              "      <td>8.10</td>\n",
              "      <td>card</td>\n",
              "      <td>INR</td>\n",
              "    </tr>\n",
              "    <tr>\n",
              "      <th>9511</th>\n",
              "      <td>Product105</td>\n",
              "      <td>paid</td>\n",
              "      <td>NaN</td>\n",
              "      <td>2022-06-01 12:31:00</td>\n",
              "      <td>2022-06-01</td>\n",
              "      <td>Direct</td>\n",
              "      <td>7.92</td>\n",
              "      <td>card</td>\n",
              "      <td>INR</td>\n",
              "    </tr>\n",
              "    <tr>\n",
              "      <th>9512</th>\n",
              "      <td>Product2</td>\n",
              "      <td>paid</td>\n",
              "      <td>NaN</td>\n",
              "      <td>2022-06-01 07:20:00</td>\n",
              "      <td>2022-06-01</td>\n",
              "      <td>Direct</td>\n",
              "      <td>999.00</td>\n",
              "      <td>paylater</td>\n",
              "      <td>INR</td>\n",
              "    </tr>\n",
              "    <tr>\n",
              "      <th>9513</th>\n",
              "      <td>Product10</td>\n",
              "      <td>refund</td>\n",
              "      <td>NaN</td>\n",
              "      <td>2022-05-28 06:21:00</td>\n",
              "      <td>2022-06-21</td>\n",
              "      <td>Direct</td>\n",
              "      <td>999.00</td>\n",
              "      <td>paylater</td>\n",
              "      <td>INR</td>\n",
              "    </tr>\n",
              "  </tbody>\n",
              "</table>\n",
              "<p>9514 rows × 9 columns</p>\n",
              "</div>\n",
              "      <button class=\"colab-df-convert\" onclick=\"convertToInteractive('df-569036f2-67b3-4cd6-83f2-e55b803784a1')\"\n",
              "              title=\"Convert this dataframe to an interactive table.\"\n",
              "              style=\"display:none;\">\n",
              "        \n",
              "  <svg xmlns=\"http://www.w3.org/2000/svg\" height=\"24px\"viewBox=\"0 0 24 24\"\n",
              "       width=\"24px\">\n",
              "    <path d=\"M0 0h24v24H0V0z\" fill=\"none\"/>\n",
              "    <path d=\"M18.56 5.44l.94 2.06.94-2.06 2.06-.94-2.06-.94-.94-2.06-.94 2.06-2.06.94zm-11 1L8.5 8.5l.94-2.06 2.06-.94-2.06-.94L8.5 2.5l-.94 2.06-2.06.94zm10 10l.94 2.06.94-2.06 2.06-.94-2.06-.94-.94-2.06-.94 2.06-2.06.94z\"/><path d=\"M17.41 7.96l-1.37-1.37c-.4-.4-.92-.59-1.43-.59-.52 0-1.04.2-1.43.59L10.3 9.45l-7.72 7.72c-.78.78-.78 2.05 0 2.83L4 21.41c.39.39.9.59 1.41.59.51 0 1.02-.2 1.41-.59l7.78-7.78 2.81-2.81c.8-.78.8-2.07 0-2.86zM5.41 20L4 18.59l7.72-7.72 1.47 1.35L5.41 20z\"/>\n",
              "  </svg>\n",
              "      </button>\n",
              "      \n",
              "  <style>\n",
              "    .colab-df-container {\n",
              "      display:flex;\n",
              "      flex-wrap:wrap;\n",
              "      gap: 12px;\n",
              "    }\n",
              "\n",
              "    .colab-df-convert {\n",
              "      background-color: #E8F0FE;\n",
              "      border: none;\n",
              "      border-radius: 50%;\n",
              "      cursor: pointer;\n",
              "      display: none;\n",
              "      fill: #1967D2;\n",
              "      height: 32px;\n",
              "      padding: 0 0 0 0;\n",
              "      width: 32px;\n",
              "    }\n",
              "\n",
              "    .colab-df-convert:hover {\n",
              "      background-color: #E2EBFA;\n",
              "      box-shadow: 0px 1px 2px rgba(60, 64, 67, 0.3), 0px 1px 3px 1px rgba(60, 64, 67, 0.15);\n",
              "      fill: #174EA6;\n",
              "    }\n",
              "\n",
              "    [theme=dark] .colab-df-convert {\n",
              "      background-color: #3B4455;\n",
              "      fill: #D2E3FC;\n",
              "    }\n",
              "\n",
              "    [theme=dark] .colab-df-convert:hover {\n",
              "      background-color: #434B5C;\n",
              "      box-shadow: 0px 1px 3px 1px rgba(0, 0, 0, 0.15);\n",
              "      filter: drop-shadow(0px 1px 2px rgba(0, 0, 0, 0.3));\n",
              "      fill: #FFFFFF;\n",
              "    }\n",
              "  </style>\n",
              "\n",
              "      <script>\n",
              "        const buttonEl =\n",
              "          document.querySelector('#df-569036f2-67b3-4cd6-83f2-e55b803784a1 button.colab-df-convert');\n",
              "        buttonEl.style.display =\n",
              "          google.colab.kernel.accessAllowed ? 'block' : 'none';\n",
              "\n",
              "        async function convertToInteractive(key) {\n",
              "          const element = document.querySelector('#df-569036f2-67b3-4cd6-83f2-e55b803784a1');\n",
              "          const dataTable =\n",
              "            await google.colab.kernel.invokeFunction('convertToInteractive',\n",
              "                                                     [key], {});\n",
              "          if (!dataTable) return;\n",
              "\n",
              "          const docLinkHtml = 'Like what you see? Visit the ' +\n",
              "            '<a target=\"_blank\" href=https://colab.research.google.com/notebooks/data_table.ipynb>data table notebook</a>'\n",
              "            + ' to learn more about interactive tables.';\n",
              "          element.innerHTML = '';\n",
              "          dataTable['output_type'] = 'display_data';\n",
              "          await google.colab.output.renderOutput(dataTable, element);\n",
              "          const docLink = document.createElement('div');\n",
              "          docLink.innerHTML = docLinkHtml;\n",
              "          element.appendChild(docLink);\n",
              "        }\n",
              "      </script>\n",
              "    </div>\n",
              "  </div>\n",
              "  "
            ]
          },
          "metadata": {},
          "execution_count": 20
        }
      ]
    },
    {
      "cell_type": "code",
      "source": [
        "data['Coupon code'] = data['Coupon code'].fillna('0')"
      ],
      "metadata": {
        "id": "tDtqEHx0bI02"
      },
      "execution_count": 21,
      "outputs": []
    },
    {
      "cell_type": "code",
      "source": [
        ""
      ],
      "metadata": {
        "id": "x9mSd3l-PvLK"
      },
      "execution_count": 21,
      "outputs": []
    },
    {
      "cell_type": "code",
      "source": [
        "data.isnull().sum()"
      ],
      "metadata": {
        "colab": {
          "base_uri": "https://localhost:8080/"
        },
        "id": "JD5KfYs6TtNq",
        "outputId": "3ae231b1-16b1-4710-c313-8d93f2d43fee"
      },
      "execution_count": 22,
      "outputs": [
        {
          "output_type": "execute_result",
          "data": {
            "text/plain": [
              "Product Code                  0\n",
              "Payment Status                0\n",
              "Coupon code                   0\n",
              "Lead Registered Time          0\n",
              "Sales Date                    0\n",
              "Source                        0\n",
              "Product Amount with GST       1\n",
              "Payment Mode               7784\n",
              "Currency  Code                0\n",
              "dtype: int64"
            ]
          },
          "metadata": {},
          "execution_count": 22
        }
      ]
    },
    {
      "cell_type": "code",
      "source": [
        "data['Payment Mode']=data['Payment Mode'].fillna('dd')"
      ],
      "metadata": {
        "id": "EECkn3QKYl_-"
      },
      "execution_count": 23,
      "outputs": []
    },
    {
      "cell_type": "code",
      "source": [
        "\n",
        "data['Product Amount with GST']=data['Product Amount with GST'].fillna(0)"
      ],
      "metadata": {
        "id": "Izl2DAV2cqo2"
      },
      "execution_count": 24,
      "outputs": []
    },
    {
      "cell_type": "code",
      "source": [
        "data['month'] = data['Sales Date'].dt.month\n",
        "data['day'] = data['Sales Date'].dt.day"
      ],
      "metadata": {
        "id": "M4sGX2VpvaaG"
      },
      "execution_count": 25,
      "outputs": []
    },
    {
      "cell_type": "code",
      "source": [
        "data"
      ],
      "metadata": {
        "colab": {
          "base_uri": "https://localhost:8080/",
          "height": 424
        },
        "id": "-otIfOJ7Yl-G",
        "outputId": "84e17bcb-430a-43ea-866d-bff6ef23feb1"
      },
      "execution_count": 26,
      "outputs": [
        {
          "output_type": "execute_result",
          "data": {
            "text/plain": [
              "     Product Code Payment Status Coupon code Lead Registered Time Sales Date  \\\n",
              "0        Product1      Initiated           0  2022-08-01 04:55:00 2022-07-31   \n",
              "1        Product2      Initiated           0  2022-08-01 04:46:00 2022-07-31   \n",
              "2        Product3      Initiated           0  2022-08-01 03:21:00 2022-07-31   \n",
              "3        Product3      Initiated           0  2022-08-01 00:56:00 2022-07-31   \n",
              "4        Product4      Initiated           0  2022-08-01 00:46:00 2022-07-31   \n",
              "...           ...            ...         ...                  ...        ...   \n",
              "9509   Product105           paid    Coupon94  2022-06-01 14:46:00 2022-06-01   \n",
              "9510   Product105           paid           0  2022-06-01 12:36:00 2022-06-01   \n",
              "9511   Product105           paid           0  2022-06-01 12:31:00 2022-06-01   \n",
              "9512     Product2           paid           0  2022-06-01 07:20:00 2022-06-01   \n",
              "9513    Product10         refund           0  2022-05-28 06:21:00 2022-06-21   \n",
              "\n",
              "      Source  Product Amount with GST Payment Mode Currency  Code  month  day  \n",
              "0     Direct                  3999.00           dd            INR      7   31  \n",
              "1     Direct                   999.00           dd            INR      7   31  \n",
              "2     Direct                  1999.00           dd            INR      7   31  \n",
              "3     Direct                  1999.00           dd            INR      7   31  \n",
              "4     Direct                  2022.00           dd            INR      7   31  \n",
              "...      ...                      ...          ...            ...    ...  ...  \n",
              "9509  Direct                     7.92         card            INR      6    1  \n",
              "9510  Direct                     8.10         card            INR      6    1  \n",
              "9511  Direct                     7.92         card            INR      6    1  \n",
              "9512  Direct                   999.00     paylater            INR      6    1  \n",
              "9513  Direct                   999.00     paylater            INR      6   21  \n",
              "\n",
              "[9514 rows x 11 columns]"
            ],
            "text/html": [
              "\n",
              "  <div id=\"df-ba87ddd0-d00a-4bbe-aaad-94360c3bb77d\">\n",
              "    <div class=\"colab-df-container\">\n",
              "      <div>\n",
              "<style scoped>\n",
              "    .dataframe tbody tr th:only-of-type {\n",
              "        vertical-align: middle;\n",
              "    }\n",
              "\n",
              "    .dataframe tbody tr th {\n",
              "        vertical-align: top;\n",
              "    }\n",
              "\n",
              "    .dataframe thead th {\n",
              "        text-align: right;\n",
              "    }\n",
              "</style>\n",
              "<table border=\"1\" class=\"dataframe\">\n",
              "  <thead>\n",
              "    <tr style=\"text-align: right;\">\n",
              "      <th></th>\n",
              "      <th>Product Code</th>\n",
              "      <th>Payment Status</th>\n",
              "      <th>Coupon code</th>\n",
              "      <th>Lead Registered Time</th>\n",
              "      <th>Sales Date</th>\n",
              "      <th>Source</th>\n",
              "      <th>Product Amount with GST</th>\n",
              "      <th>Payment Mode</th>\n",
              "      <th>Currency  Code</th>\n",
              "      <th>month</th>\n",
              "      <th>day</th>\n",
              "    </tr>\n",
              "  </thead>\n",
              "  <tbody>\n",
              "    <tr>\n",
              "      <th>0</th>\n",
              "      <td>Product1</td>\n",
              "      <td>Initiated</td>\n",
              "      <td>0</td>\n",
              "      <td>2022-08-01 04:55:00</td>\n",
              "      <td>2022-07-31</td>\n",
              "      <td>Direct</td>\n",
              "      <td>3999.00</td>\n",
              "      <td>dd</td>\n",
              "      <td>INR</td>\n",
              "      <td>7</td>\n",
              "      <td>31</td>\n",
              "    </tr>\n",
              "    <tr>\n",
              "      <th>1</th>\n",
              "      <td>Product2</td>\n",
              "      <td>Initiated</td>\n",
              "      <td>0</td>\n",
              "      <td>2022-08-01 04:46:00</td>\n",
              "      <td>2022-07-31</td>\n",
              "      <td>Direct</td>\n",
              "      <td>999.00</td>\n",
              "      <td>dd</td>\n",
              "      <td>INR</td>\n",
              "      <td>7</td>\n",
              "      <td>31</td>\n",
              "    </tr>\n",
              "    <tr>\n",
              "      <th>2</th>\n",
              "      <td>Product3</td>\n",
              "      <td>Initiated</td>\n",
              "      <td>0</td>\n",
              "      <td>2022-08-01 03:21:00</td>\n",
              "      <td>2022-07-31</td>\n",
              "      <td>Direct</td>\n",
              "      <td>1999.00</td>\n",
              "      <td>dd</td>\n",
              "      <td>INR</td>\n",
              "      <td>7</td>\n",
              "      <td>31</td>\n",
              "    </tr>\n",
              "    <tr>\n",
              "      <th>3</th>\n",
              "      <td>Product3</td>\n",
              "      <td>Initiated</td>\n",
              "      <td>0</td>\n",
              "      <td>2022-08-01 00:56:00</td>\n",
              "      <td>2022-07-31</td>\n",
              "      <td>Direct</td>\n",
              "      <td>1999.00</td>\n",
              "      <td>dd</td>\n",
              "      <td>INR</td>\n",
              "      <td>7</td>\n",
              "      <td>31</td>\n",
              "    </tr>\n",
              "    <tr>\n",
              "      <th>4</th>\n",
              "      <td>Product4</td>\n",
              "      <td>Initiated</td>\n",
              "      <td>0</td>\n",
              "      <td>2022-08-01 00:46:00</td>\n",
              "      <td>2022-07-31</td>\n",
              "      <td>Direct</td>\n",
              "      <td>2022.00</td>\n",
              "      <td>dd</td>\n",
              "      <td>INR</td>\n",
              "      <td>7</td>\n",
              "      <td>31</td>\n",
              "    </tr>\n",
              "    <tr>\n",
              "      <th>...</th>\n",
              "      <td>...</td>\n",
              "      <td>...</td>\n",
              "      <td>...</td>\n",
              "      <td>...</td>\n",
              "      <td>...</td>\n",
              "      <td>...</td>\n",
              "      <td>...</td>\n",
              "      <td>...</td>\n",
              "      <td>...</td>\n",
              "      <td>...</td>\n",
              "      <td>...</td>\n",
              "    </tr>\n",
              "    <tr>\n",
              "      <th>9509</th>\n",
              "      <td>Product105</td>\n",
              "      <td>paid</td>\n",
              "      <td>Coupon94</td>\n",
              "      <td>2022-06-01 14:46:00</td>\n",
              "      <td>2022-06-01</td>\n",
              "      <td>Direct</td>\n",
              "      <td>7.92</td>\n",
              "      <td>card</td>\n",
              "      <td>INR</td>\n",
              "      <td>6</td>\n",
              "      <td>1</td>\n",
              "    </tr>\n",
              "    <tr>\n",
              "      <th>9510</th>\n",
              "      <td>Product105</td>\n",
              "      <td>paid</td>\n",
              "      <td>0</td>\n",
              "      <td>2022-06-01 12:36:00</td>\n",
              "      <td>2022-06-01</td>\n",
              "      <td>Direct</td>\n",
              "      <td>8.10</td>\n",
              "      <td>card</td>\n",
              "      <td>INR</td>\n",
              "      <td>6</td>\n",
              "      <td>1</td>\n",
              "    </tr>\n",
              "    <tr>\n",
              "      <th>9511</th>\n",
              "      <td>Product105</td>\n",
              "      <td>paid</td>\n",
              "      <td>0</td>\n",
              "      <td>2022-06-01 12:31:00</td>\n",
              "      <td>2022-06-01</td>\n",
              "      <td>Direct</td>\n",
              "      <td>7.92</td>\n",
              "      <td>card</td>\n",
              "      <td>INR</td>\n",
              "      <td>6</td>\n",
              "      <td>1</td>\n",
              "    </tr>\n",
              "    <tr>\n",
              "      <th>9512</th>\n",
              "      <td>Product2</td>\n",
              "      <td>paid</td>\n",
              "      <td>0</td>\n",
              "      <td>2022-06-01 07:20:00</td>\n",
              "      <td>2022-06-01</td>\n",
              "      <td>Direct</td>\n",
              "      <td>999.00</td>\n",
              "      <td>paylater</td>\n",
              "      <td>INR</td>\n",
              "      <td>6</td>\n",
              "      <td>1</td>\n",
              "    </tr>\n",
              "    <tr>\n",
              "      <th>9513</th>\n",
              "      <td>Product10</td>\n",
              "      <td>refund</td>\n",
              "      <td>0</td>\n",
              "      <td>2022-05-28 06:21:00</td>\n",
              "      <td>2022-06-21</td>\n",
              "      <td>Direct</td>\n",
              "      <td>999.00</td>\n",
              "      <td>paylater</td>\n",
              "      <td>INR</td>\n",
              "      <td>6</td>\n",
              "      <td>21</td>\n",
              "    </tr>\n",
              "  </tbody>\n",
              "</table>\n",
              "<p>9514 rows × 11 columns</p>\n",
              "</div>\n",
              "      <button class=\"colab-df-convert\" onclick=\"convertToInteractive('df-ba87ddd0-d00a-4bbe-aaad-94360c3bb77d')\"\n",
              "              title=\"Convert this dataframe to an interactive table.\"\n",
              "              style=\"display:none;\">\n",
              "        \n",
              "  <svg xmlns=\"http://www.w3.org/2000/svg\" height=\"24px\"viewBox=\"0 0 24 24\"\n",
              "       width=\"24px\">\n",
              "    <path d=\"M0 0h24v24H0V0z\" fill=\"none\"/>\n",
              "    <path d=\"M18.56 5.44l.94 2.06.94-2.06 2.06-.94-2.06-.94-.94-2.06-.94 2.06-2.06.94zm-11 1L8.5 8.5l.94-2.06 2.06-.94-2.06-.94L8.5 2.5l-.94 2.06-2.06.94zm10 10l.94 2.06.94-2.06 2.06-.94-2.06-.94-.94-2.06-.94 2.06-2.06.94z\"/><path d=\"M17.41 7.96l-1.37-1.37c-.4-.4-.92-.59-1.43-.59-.52 0-1.04.2-1.43.59L10.3 9.45l-7.72 7.72c-.78.78-.78 2.05 0 2.83L4 21.41c.39.39.9.59 1.41.59.51 0 1.02-.2 1.41-.59l7.78-7.78 2.81-2.81c.8-.78.8-2.07 0-2.86zM5.41 20L4 18.59l7.72-7.72 1.47 1.35L5.41 20z\"/>\n",
              "  </svg>\n",
              "      </button>\n",
              "      \n",
              "  <style>\n",
              "    .colab-df-container {\n",
              "      display:flex;\n",
              "      flex-wrap:wrap;\n",
              "      gap: 12px;\n",
              "    }\n",
              "\n",
              "    .colab-df-convert {\n",
              "      background-color: #E8F0FE;\n",
              "      border: none;\n",
              "      border-radius: 50%;\n",
              "      cursor: pointer;\n",
              "      display: none;\n",
              "      fill: #1967D2;\n",
              "      height: 32px;\n",
              "      padding: 0 0 0 0;\n",
              "      width: 32px;\n",
              "    }\n",
              "\n",
              "    .colab-df-convert:hover {\n",
              "      background-color: #E2EBFA;\n",
              "      box-shadow: 0px 1px 2px rgba(60, 64, 67, 0.3), 0px 1px 3px 1px rgba(60, 64, 67, 0.15);\n",
              "      fill: #174EA6;\n",
              "    }\n",
              "\n",
              "    [theme=dark] .colab-df-convert {\n",
              "      background-color: #3B4455;\n",
              "      fill: #D2E3FC;\n",
              "    }\n",
              "\n",
              "    [theme=dark] .colab-df-convert:hover {\n",
              "      background-color: #434B5C;\n",
              "      box-shadow: 0px 1px 3px 1px rgba(0, 0, 0, 0.15);\n",
              "      filter: drop-shadow(0px 1px 2px rgba(0, 0, 0, 0.3));\n",
              "      fill: #FFFFFF;\n",
              "    }\n",
              "  </style>\n",
              "\n",
              "      <script>\n",
              "        const buttonEl =\n",
              "          document.querySelector('#df-ba87ddd0-d00a-4bbe-aaad-94360c3bb77d button.colab-df-convert');\n",
              "        buttonEl.style.display =\n",
              "          google.colab.kernel.accessAllowed ? 'block' : 'none';\n",
              "\n",
              "        async function convertToInteractive(key) {\n",
              "          const element = document.querySelector('#df-ba87ddd0-d00a-4bbe-aaad-94360c3bb77d');\n",
              "          const dataTable =\n",
              "            await google.colab.kernel.invokeFunction('convertToInteractive',\n",
              "                                                     [key], {});\n",
              "          if (!dataTable) return;\n",
              "\n",
              "          const docLinkHtml = 'Like what you see? Visit the ' +\n",
              "            '<a target=\"_blank\" href=https://colab.research.google.com/notebooks/data_table.ipynb>data table notebook</a>'\n",
              "            + ' to learn more about interactive tables.';\n",
              "          element.innerHTML = '';\n",
              "          dataTable['output_type'] = 'display_data';\n",
              "          await google.colab.output.renderOutput(dataTable, element);\n",
              "          const docLink = document.createElement('div');\n",
              "          docLink.innerHTML = docLinkHtml;\n",
              "          element.appendChild(docLink);\n",
              "        }\n",
              "      </script>\n",
              "    </div>\n",
              "  </div>\n",
              "  "
            ]
          },
          "metadata": {},
          "execution_count": 26
        }
      ]
    },
    {
      "cell_type": "code",
      "source": [
        "data.describe()"
      ],
      "metadata": {
        "colab": {
          "base_uri": "https://localhost:8080/",
          "height": 300
        },
        "id": "QQtH689yZRGf",
        "outputId": "e734a4ed-07d8-44f6-b754-28d5cdc7dc91"
      },
      "execution_count": 27,
      "outputs": [
        {
          "output_type": "execute_result",
          "data": {
            "text/plain": [
              "       Product Amount with GST        month          day\n",
              "count              9514.000000  9514.000000  9514.000000\n",
              "mean               1464.828552     6.534160    17.246479\n",
              "std                1277.556524     0.498858     8.330103\n",
              "min                   0.000000     6.000000     1.000000\n",
              "25%                 499.000000     6.000000    12.000000\n",
              "50%                1499.000000     7.000000    18.000000\n",
              "75%                1999.000000     7.000000    24.000000\n",
              "max               29992.000000     7.000000    31.000000"
            ],
            "text/html": [
              "\n",
              "  <div id=\"df-595104cc-7b61-4c44-b672-917e08ac77e7\">\n",
              "    <div class=\"colab-df-container\">\n",
              "      <div>\n",
              "<style scoped>\n",
              "    .dataframe tbody tr th:only-of-type {\n",
              "        vertical-align: middle;\n",
              "    }\n",
              "\n",
              "    .dataframe tbody tr th {\n",
              "        vertical-align: top;\n",
              "    }\n",
              "\n",
              "    .dataframe thead th {\n",
              "        text-align: right;\n",
              "    }\n",
              "</style>\n",
              "<table border=\"1\" class=\"dataframe\">\n",
              "  <thead>\n",
              "    <tr style=\"text-align: right;\">\n",
              "      <th></th>\n",
              "      <th>Product Amount with GST</th>\n",
              "      <th>month</th>\n",
              "      <th>day</th>\n",
              "    </tr>\n",
              "  </thead>\n",
              "  <tbody>\n",
              "    <tr>\n",
              "      <th>count</th>\n",
              "      <td>9514.000000</td>\n",
              "      <td>9514.000000</td>\n",
              "      <td>9514.000000</td>\n",
              "    </tr>\n",
              "    <tr>\n",
              "      <th>mean</th>\n",
              "      <td>1464.828552</td>\n",
              "      <td>6.534160</td>\n",
              "      <td>17.246479</td>\n",
              "    </tr>\n",
              "    <tr>\n",
              "      <th>std</th>\n",
              "      <td>1277.556524</td>\n",
              "      <td>0.498858</td>\n",
              "      <td>8.330103</td>\n",
              "    </tr>\n",
              "    <tr>\n",
              "      <th>min</th>\n",
              "      <td>0.000000</td>\n",
              "      <td>6.000000</td>\n",
              "      <td>1.000000</td>\n",
              "    </tr>\n",
              "    <tr>\n",
              "      <th>25%</th>\n",
              "      <td>499.000000</td>\n",
              "      <td>6.000000</td>\n",
              "      <td>12.000000</td>\n",
              "    </tr>\n",
              "    <tr>\n",
              "      <th>50%</th>\n",
              "      <td>1499.000000</td>\n",
              "      <td>7.000000</td>\n",
              "      <td>18.000000</td>\n",
              "    </tr>\n",
              "    <tr>\n",
              "      <th>75%</th>\n",
              "      <td>1999.000000</td>\n",
              "      <td>7.000000</td>\n",
              "      <td>24.000000</td>\n",
              "    </tr>\n",
              "    <tr>\n",
              "      <th>max</th>\n",
              "      <td>29992.000000</td>\n",
              "      <td>7.000000</td>\n",
              "      <td>31.000000</td>\n",
              "    </tr>\n",
              "  </tbody>\n",
              "</table>\n",
              "</div>\n",
              "      <button class=\"colab-df-convert\" onclick=\"convertToInteractive('df-595104cc-7b61-4c44-b672-917e08ac77e7')\"\n",
              "              title=\"Convert this dataframe to an interactive table.\"\n",
              "              style=\"display:none;\">\n",
              "        \n",
              "  <svg xmlns=\"http://www.w3.org/2000/svg\" height=\"24px\"viewBox=\"0 0 24 24\"\n",
              "       width=\"24px\">\n",
              "    <path d=\"M0 0h24v24H0V0z\" fill=\"none\"/>\n",
              "    <path d=\"M18.56 5.44l.94 2.06.94-2.06 2.06-.94-2.06-.94-.94-2.06-.94 2.06-2.06.94zm-11 1L8.5 8.5l.94-2.06 2.06-.94-2.06-.94L8.5 2.5l-.94 2.06-2.06.94zm10 10l.94 2.06.94-2.06 2.06-.94-2.06-.94-.94-2.06-.94 2.06-2.06.94z\"/><path d=\"M17.41 7.96l-1.37-1.37c-.4-.4-.92-.59-1.43-.59-.52 0-1.04.2-1.43.59L10.3 9.45l-7.72 7.72c-.78.78-.78 2.05 0 2.83L4 21.41c.39.39.9.59 1.41.59.51 0 1.02-.2 1.41-.59l7.78-7.78 2.81-2.81c.8-.78.8-2.07 0-2.86zM5.41 20L4 18.59l7.72-7.72 1.47 1.35L5.41 20z\"/>\n",
              "  </svg>\n",
              "      </button>\n",
              "      \n",
              "  <style>\n",
              "    .colab-df-container {\n",
              "      display:flex;\n",
              "      flex-wrap:wrap;\n",
              "      gap: 12px;\n",
              "    }\n",
              "\n",
              "    .colab-df-convert {\n",
              "      background-color: #E8F0FE;\n",
              "      border: none;\n",
              "      border-radius: 50%;\n",
              "      cursor: pointer;\n",
              "      display: none;\n",
              "      fill: #1967D2;\n",
              "      height: 32px;\n",
              "      padding: 0 0 0 0;\n",
              "      width: 32px;\n",
              "    }\n",
              "\n",
              "    .colab-df-convert:hover {\n",
              "      background-color: #E2EBFA;\n",
              "      box-shadow: 0px 1px 2px rgba(60, 64, 67, 0.3), 0px 1px 3px 1px rgba(60, 64, 67, 0.15);\n",
              "      fill: #174EA6;\n",
              "    }\n",
              "\n",
              "    [theme=dark] .colab-df-convert {\n",
              "      background-color: #3B4455;\n",
              "      fill: #D2E3FC;\n",
              "    }\n",
              "\n",
              "    [theme=dark] .colab-df-convert:hover {\n",
              "      background-color: #434B5C;\n",
              "      box-shadow: 0px 1px 3px 1px rgba(0, 0, 0, 0.15);\n",
              "      filter: drop-shadow(0px 1px 2px rgba(0, 0, 0, 0.3));\n",
              "      fill: #FFFFFF;\n",
              "    }\n",
              "  </style>\n",
              "\n",
              "      <script>\n",
              "        const buttonEl =\n",
              "          document.querySelector('#df-595104cc-7b61-4c44-b672-917e08ac77e7 button.colab-df-convert');\n",
              "        buttonEl.style.display =\n",
              "          google.colab.kernel.accessAllowed ? 'block' : 'none';\n",
              "\n",
              "        async function convertToInteractive(key) {\n",
              "          const element = document.querySelector('#df-595104cc-7b61-4c44-b672-917e08ac77e7');\n",
              "          const dataTable =\n",
              "            await google.colab.kernel.invokeFunction('convertToInteractive',\n",
              "                                                     [key], {});\n",
              "          if (!dataTable) return;\n",
              "\n",
              "          const docLinkHtml = 'Like what you see? Visit the ' +\n",
              "            '<a target=\"_blank\" href=https://colab.research.google.com/notebooks/data_table.ipynb>data table notebook</a>'\n",
              "            + ' to learn more about interactive tables.';\n",
              "          element.innerHTML = '';\n",
              "          dataTable['output_type'] = 'display_data';\n",
              "          await google.colab.output.renderOutput(dataTable, element);\n",
              "          const docLink = document.createElement('div');\n",
              "          docLink.innerHTML = docLinkHtml;\n",
              "          element.appendChild(docLink);\n",
              "        }\n",
              "      </script>\n",
              "    </div>\n",
              "  </div>\n",
              "  "
            ]
          },
          "metadata": {},
          "execution_count": 27
        }
      ]
    },
    {
      "cell_type": "markdown",
      "source": [
        "# NOW WE DO AGGREGATION"
      ],
      "metadata": {
        "id": "XxSRIasoJy5D"
      }
    },
    {
      "cell_type": "code",
      "source": [
        "a1=data['Product Code'].groupby(data['Payment Status']).count()\n",
        "a1.head()"
      ],
      "metadata": {
        "colab": {
          "base_uri": "https://localhost:8080/"
        },
        "id": "fP-JVt4Cc55b",
        "outputId": "78654140-457f-4c12-a557-2244ccefa1fe"
      },
      "execution_count": 28,
      "outputs": [
        {
          "output_type": "execute_result",
          "data": {
            "text/plain": [
              "Payment Status\n",
              "Initiated    7782\n",
              "paid         1691\n",
              "refund         41\n",
              "Name: Product Code, dtype: int64"
            ]
          },
          "metadata": {},
          "execution_count": 28
        }
      ]
    },
    {
      "cell_type": "code",
      "source": [
        "plt.figure(figsize=(20,16))\n",
        "plt.subplot(231)\n",
        "plt.xticks(rotation=15)\n",
        "plt.title('payment status ')\n",
        "sns.barplot(x=a1.index,y=a1.values,data=data,palette=\"Set3\")"
      ],
      "metadata": {
        "colab": {
          "base_uri": "https://localhost:8080/",
          "height": 507
        },
        "id": "Uv497iQHl4cW",
        "outputId": "20f4ade2-81f5-41c6-c28f-a9ccb97ae33a"
      },
      "execution_count": 46,
      "outputs": [
        {
          "output_type": "execute_result",
          "data": {
            "text/plain": [
              "<matplotlib.axes._subplots.AxesSubplot at 0x7f4bf449ae10>"
            ]
          },
          "metadata": {},
          "execution_count": 46
        },
        {
          "output_type": "display_data",
          "data": {
            "text/plain": [
              "<Figure size 1440x1152 with 1 Axes>"
            ],
            "image/png": "[encoded data removed]"
          },
          "metadata": {}
        }
      ]
    },
    {
      "cell_type": "markdown",
      "source": [
        "MOST PAYMENT  HAS INITIATED \n",
        " AND PAID FOLLWED THAT REFUND"
      ],
      "metadata": {
        "id": "z_6Mxa0NKIUR"
      }
    },
    {
      "cell_type": "code",
      "source": [
        "a2=data['Product Code'].groupby(data['Coupon code']).count()\n",
        "a2.head()"
      ],
      "metadata": {
        "colab": {
          "base_uri": "https://localhost:8080/"
        },
        "id": "491ZbT_Ac51c",
        "outputId": "92900166-129c-42d3-d625-d7b5cedfd5b0"
      },
      "execution_count": 30,
      "outputs": [
        {
          "output_type": "execute_result",
          "data": {
            "text/plain": [
              "Coupon code\n",
              "0           8852\n",
              "Coupon1      234\n",
              "Coupon10       8\n",
              "Coupon11       1\n",
              "Coupon12       2\n",
              "Name: Product Code, dtype: int64"
            ]
          },
          "metadata": {},
          "execution_count": 30
        }
      ]
    },
    {
      "cell_type": "markdown",
      "source": [
        "MAXIMUM PAYMENT NOT USED COUPON\n",
        " \n",
        "234 USER USE COUPON 1"
      ],
      "metadata": {
        "id": "cXQb7wcZKjDx"
      }
    },
    {
      "cell_type": "code",
      "source": [
        "a4=data['Product Code'].groupby(data['Source']).count()\n",
        "a4.head()"
      ],
      "metadata": {
        "colab": {
          "base_uri": "https://localhost:8080/"
        },
        "id": "N00M_z1AmGva",
        "outputId": "b5a2509b-1b81-4068-a37a-c77b3eb7ce1a"
      },
      "execution_count": 31,
      "outputs": [
        {
          "output_type": "execute_result",
          "data": {
            "text/plain": [
              "Source\n",
              "Direct        7040\n",
              "Email          605\n",
              "Influencer    1594\n",
              "Paid           275\n",
              "Name: Product Code, dtype: int64"
            ]
          },
          "metadata": {},
          "execution_count": 31
        }
      ]
    },
    {
      "cell_type": "code",
      "source": [
        "plt.figure(figsize=(20,16))\n",
        "plt.subplot(231)\n",
        "plt.xticks(rotation=15)\n",
        "plt.title('type of source ')\n",
        "sns.barplot(x=a4.index,y=a4.values,data=data,palette=\"rocket\")"
      ],
      "metadata": {
        "colab": {
          "base_uri": "https://localhost:8080/",
          "height": 510
        },
        "id": "p_AXgaaUmGrB",
        "outputId": "c21c43a3-3a2f-49f9-a5b7-6c22e4ef52b2"
      },
      "execution_count": 45,
      "outputs": [
        {
          "output_type": "execute_result",
          "data": {
            "text/plain": [
              "<matplotlib.axes._subplots.AxesSubplot at 0x7f4bf45b7750>"
            ]
          },
          "metadata": {},
          "execution_count": 45
        },
        {
          "output_type": "display_data",
          "data": {
            "text/plain": [
              "<Figure size 1440x1152 with 1 Axes>"
            ],
            "image/png": "[encoded data removed]"
          },
          "metadata": {}
        }
      ]
    },
    {
      "cell_type": "markdown",
      "source": [
        "DIRECT USER ONLY HIGH \n",
        "\n",
        "AND THEN INFLUENCER \n"
      ],
      "metadata": {
        "id": "13nUFex3K-U1"
      }
    },
    {
      "cell_type": "code",
      "source": [
        "a5=data['Product Code'].groupby(data['Product Code']).count()\n",
        "a5.head()"
      ],
      "metadata": {
        "colab": {
          "base_uri": "https://localhost:8080/"
        },
        "id": "VV1RgqMRmGmw",
        "outputId": "80d78063-0c17-4483-cc6c-be84ab113316"
      },
      "execution_count": 33,
      "outputs": [
        {
          "output_type": "execute_result",
          "data": {
            "text/plain": [
              "Product Code\n",
              "Product1      1272\n",
              "Product10      360\n",
              "Product100       6\n",
              "Product101       3\n",
              "Product102       3\n",
              "Name: Product Code, dtype: int64"
            ]
          },
          "metadata": {},
          "execution_count": 33
        }
      ]
    },
    {
      "cell_type": "markdown",
      "source": [
        "HIGH SOLD PRODUCT IS PRODUCT 1"
      ],
      "metadata": {
        "id": "y9ZK7oCnLUbS"
      }
    },
    {
      "cell_type": "code",
      "source": [
        ""
      ],
      "metadata": {
        "id": "Ja-XO6x3LSe4"
      },
      "execution_count": 33,
      "outputs": []
    },
    {
      "cell_type": "code",
      "source": [
        "data1=data.groupby(['Product Code','month'])['Product Amount with GST'].sum().reset_index()\n",
        "data1"
      ],
      "metadata": {
        "colab": {
          "base_uri": "https://localhost:8080/",
          "height": 424
        },
        "id": "CrILYIr-uxYb",
        "outputId": "03655158-f3c2-4515-8a8c-291cb8dd6779"
      },
      "execution_count": 34,
      "outputs": [
        {
          "output_type": "execute_result",
          "data": {
            "text/plain": [
              "    Product Code  month  Product Amount with GST\n",
              "0       Product1      6                1159174.0\n",
              "1       Product1      7                2535855.2\n",
              "2      Product10      6                 191808.0\n",
              "3      Product10      7                 167832.0\n",
              "4     Product100      6                   4495.0\n",
              "..           ...    ...                      ...\n",
              "251    Product97      6                  21512.0\n",
              "252    Product97      7                    499.0\n",
              "253    Product98      6                   4444.0\n",
              "254    Product98      7                   1497.0\n",
              "255    Product99      7                    499.0\n",
              "\n",
              "[256 rows x 3 columns]"
            ],
            "text/html": [
              "\n",
              "  <div id=\"df-812c7e58-56ab-4432-9b39-43a047432977\">\n",
              "    <div class=\"colab-df-container\">\n",
              "      <div>\n",
              "<style scoped>\n",
              "    .dataframe tbody tr th:only-of-type {\n",
              "        vertical-align: middle;\n",
              "    }\n",
              "\n",
              "    .dataframe tbody tr th {\n",
              "        vertical-align: top;\n",
              "    }\n",
              "\n",
              "    .dataframe thead th {\n",
              "        text-align: right;\n",
              "    }\n",
              "</style>\n",
              "<table border=\"1\" class=\"dataframe\">\n",
              "  <thead>\n",
              "    <tr style=\"text-align: right;\">\n",
              "      <th></th>\n",
              "      <th>Product Code</th>\n",
              "      <th>month</th>\n",
              "      <th>Product Amount with GST</th>\n",
              "    </tr>\n",
              "  </thead>\n",
              "  <tbody>\n",
              "    <tr>\n",
              "      <th>0</th>\n",
              "      <td>Product1</td>\n",
              "      <td>6</td>\n",
              "      <td>1159174.0</td>\n",
              "    </tr>\n",
              "    <tr>\n",
              "      <th>1</th>\n",
              "      <td>Product1</td>\n",
              "      <td>7</td>\n",
              "      <td>2535855.2</td>\n",
              "    </tr>\n",
              "    <tr>\n",
              "      <th>2</th>\n",
              "      <td>Product10</td>\n",
              "      <td>6</td>\n",
              "      <td>191808.0</td>\n",
              "    </tr>\n",
              "    <tr>\n",
              "      <th>3</th>\n",
              "      <td>Product10</td>\n",
              "      <td>7</td>\n",
              "      <td>167832.0</td>\n",
              "    </tr>\n",
              "    <tr>\n",
              "      <th>4</th>\n",
              "      <td>Product100</td>\n",
              "      <td>6</td>\n",
              "      <td>4495.0</td>\n",
              "    </tr>\n",
              "    <tr>\n",
              "      <th>...</th>\n",
              "      <td>...</td>\n",
              "      <td>...</td>\n",
              "      <td>...</td>\n",
              "    </tr>\n",
              "    <tr>\n",
              "      <th>251</th>\n",
              "      <td>Product97</td>\n",
              "      <td>6</td>\n",
              "      <td>21512.0</td>\n",
              "    </tr>\n",
              "    <tr>\n",
              "      <th>252</th>\n",
              "      <td>Product97</td>\n",
              "      <td>7</td>\n",
              "      <td>499.0</td>\n",
              "    </tr>\n",
              "    <tr>\n",
              "      <th>253</th>\n",
              "      <td>Product98</td>\n",
              "      <td>6</td>\n",
              "      <td>4444.0</td>\n",
              "    </tr>\n",
              "    <tr>\n",
              "      <th>254</th>\n",
              "      <td>Product98</td>\n",
              "      <td>7</td>\n",
              "      <td>1497.0</td>\n",
              "    </tr>\n",
              "    <tr>\n",
              "      <th>255</th>\n",
              "      <td>Product99</td>\n",
              "      <td>7</td>\n",
              "      <td>499.0</td>\n",
              "    </tr>\n",
              "  </tbody>\n",
              "</table>\n",
              "<p>256 rows × 3 columns</p>\n",
              "</div>\n",
              "      <button class=\"colab-df-convert\" onclick=\"convertToInteractive('df-812c7e58-56ab-4432-9b39-43a047432977')\"\n",
              "              title=\"Convert this dataframe to an interactive table.\"\n",
              "              style=\"display:none;\">\n",
              "        \n",
              "  <svg xmlns=\"http://www.w3.org/2000/svg\" height=\"24px\"viewBox=\"0 0 24 24\"\n",
              "       width=\"24px\">\n",
              "    <path d=\"M0 0h24v24H0V0z\" fill=\"none\"/>\n",
              "    <path d=\"M18.56 5.44l.94 2.06.94-2.06 2.06-.94-2.06-.94-.94-2.06-.94 2.06-2.06.94zm-11 1L8.5 8.5l.94-2.06 2.06-.94-2.06-.94L8.5 2.5l-.94 2.06-2.06.94zm10 10l.94 2.06.94-2.06 2.06-.94-2.06-.94-.94-2.06-.94 2.06-2.06.94z\"/><path d=\"M17.41 7.96l-1.37-1.37c-.4-.4-.92-.59-1.43-.59-.52 0-1.04.2-1.43.59L10.3 9.45l-7.72 7.72c-.78.78-.78 2.05 0 2.83L4 21.41c.39.39.9.59 1.41.59.51 0 1.02-.2 1.41-.59l7.78-7.78 2.81-2.81c.8-.78.8-2.07 0-2.86zM5.41 20L4 18.59l7.72-7.72 1.47 1.35L5.41 20z\"/>\n",
              "  </svg>\n",
              "      </button>\n",
              "      \n",
              "  <style>\n",
              "    .colab-df-container {\n",
              "      display:flex;\n",
              "      flex-wrap:wrap;\n",
              "      gap: 12px;\n",
              "    }\n",
              "\n",
              "    .colab-df-convert {\n",
              "      background-color: #E8F0FE;\n",
              "      border: none;\n",
              "      border-radius: 50%;\n",
              "      cursor: pointer;\n",
              "      display: none;\n",
              "      fill: #1967D2;\n",
              "      height: 32px;\n",
              "      padding: 0 0 0 0;\n",
              "      width: 32px;\n",
              "    }\n",
              "\n",
              "    .colab-df-convert:hover {\n",
              "      background-color: #E2EBFA;\n",
              "      box-shadow: 0px 1px 2px rgba(60, 64, 67, 0.3), 0px 1px 3px 1px rgba(60, 64, 67, 0.15);\n",
              "      fill: #174EA6;\n",
              "    }\n",
              "\n",
              "    [theme=dark] .colab-df-convert {\n",
              "      background-color: #3B4455;\n",
              "      fill: #D2E3FC;\n",
              "    }\n",
              "\n",
              "    [theme=dark] .colab-df-convert:hover {\n",
              "      background-color: #434B5C;\n",
              "      box-shadow: 0px 1px 3px 1px rgba(0, 0, 0, 0.15);\n",
              "      filter: drop-shadow(0px 1px 2px rgba(0, 0, 0, 0.3));\n",
              "      fill: #FFFFFF;\n",
              "    }\n",
              "  </style>\n",
              "\n",
              "      <script>\n",
              "        const buttonEl =\n",
              "          document.querySelector('#df-812c7e58-56ab-4432-9b39-43a047432977 button.colab-df-convert');\n",
              "        buttonEl.style.display =\n",
              "          google.colab.kernel.accessAllowed ? 'block' : 'none';\n",
              "\n",
              "        async function convertToInteractive(key) {\n",
              "          const element = document.querySelector('#df-812c7e58-56ab-4432-9b39-43a047432977');\n",
              "          const dataTable =\n",
              "            await google.colab.kernel.invokeFunction('convertToInteractive',\n",
              "                                                     [key], {});\n",
              "          if (!dataTable) return;\n",
              "\n",
              "          const docLinkHtml = 'Like what you see? Visit the ' +\n",
              "            '<a target=\"_blank\" href=https://colab.research.google.com/notebooks/data_table.ipynb>data table notebook</a>'\n",
              "            + ' to learn more about interactive tables.';\n",
              "          element.innerHTML = '';\n",
              "          dataTable['output_type'] = 'display_data';\n",
              "          await google.colab.output.renderOutput(dataTable, element);\n",
              "          const docLink = document.createElement('div');\n",
              "          docLink.innerHTML = docLinkHtml;\n",
              "          element.appendChild(docLink);\n",
              "        }\n",
              "      </script>\n",
              "    </div>\n",
              "  </div>\n",
              "  "
            ]
          },
          "metadata": {},
          "execution_count": 34
        }
      ]
    },
    {
      "cell_type": "code",
      "source": [
        "data1['Product Amount with GST'].sum()"
      ],
      "metadata": {
        "colab": {
          "base_uri": "https://localhost:8080/"
        },
        "id": "fYfDjNQ4Gmfp",
        "outputId": "afcdc8bf-a705-4dad-b3c7-6e1ef80be6a5"
      },
      "execution_count": 35,
      "outputs": [
        {
          "output_type": "execute_result",
          "data": {
            "text/plain": [
              "13936378.84"
            ]
          },
          "metadata": {},
          "execution_count": 35
        }
      ]
    },
    {
      "cell_type": "markdown",
      "source": [
        "FROM 2 MONTH TOTAL AMOUNT COLLECTED = 13936378"
      ],
      "metadata": {
        "id": "78kHQDy7MAo_"
      }
    },
    {
      "cell_type": "code",
      "source": [
        "a6=data['Product Amount with GST'].groupby(data['month']).count()\n",
        "a6.head()"
      ],
      "metadata": {
        "colab": {
          "base_uri": "https://localhost:8080/"
        },
        "id": "T7ojRJJ7HQCr",
        "outputId": "82f1d80e-f895-4533-c0fc-5c2fc39c5642"
      },
      "execution_count": 36,
      "outputs": [
        {
          "output_type": "execute_result",
          "data": {
            "text/plain": [
              "month\n",
              "6    4432\n",
              "7    5082\n",
              "Name: Product Amount with GST, dtype: int64"
            ]
          },
          "metadata": {},
          "execution_count": 36
        }
      ]
    },
    {
      "cell_type": "markdown",
      "source": [
        "COMPARE OF 2 MONTHS  \n",
        "\n",
        "7th MONTHS  AS HIGH SALES"
      ],
      "metadata": {
        "id": "rEgD9231MLim"
      }
    },
    {
      "cell_type": "code",
      "source": [
        "plt.figure(figsize=(20,16))\n",
        "plt.subplot(231)\n",
        "plt.xticks(rotation=15)\n",
        "plt.title('monthly sales ')\n",
        "sns.barplot(x=a6.index,y=a6.values,data=data,palette=\"rocket\")"
      ],
      "metadata": {
        "colab": {
          "base_uri": "https://localhost:8080/",
          "height": 497
        },
        "id": "C8Yj37ZOHu0l",
        "outputId": "038e424e-0eda-4a8e-a557-d2f1152fe3e8"
      },
      "execution_count": 44,
      "outputs": [
        {
          "output_type": "execute_result",
          "data": {
            "text/plain": [
              "<matplotlib.axes._subplots.AxesSubplot at 0x7f4bf45e4750>"
            ]
          },
          "metadata": {},
          "execution_count": 44
        },
        {
          "output_type": "display_data",
          "data": {
            "text/plain": [
              "<Figure size 1440x1152 with 1 Axes>"
            ],
            "image/png": "[encoded data removed]"
          },
          "metadata": {}
        }
      ]
    },
    {
      "cell_type": "code",
      "source": [
        "a7=data['Product Amount with GST'].groupby(data['Payment Mode']).count()\n",
        "a7.head()"
      ],
      "metadata": {
        "colab": {
          "base_uri": "https://localhost:8080/"
        },
        "id": "zY4oxgz7TXtd",
        "outputId": "622ff706-c191-448d-d489-9dd58c10e36a"
      },
      "execution_count": 38,
      "outputs": [
        {
          "output_type": "execute_result",
          "data": {
            "text/plain": [
              "Payment Mode\n",
              "card             287\n",
              "cardless_emi      15\n",
              "dd              7784\n",
              "emi                2\n",
              "netbanking        90\n",
              "Name: Product Amount with GST, dtype: int64"
            ]
          },
          "metadata": {},
          "execution_count": 38
        }
      ]
    },
    {
      "cell_type": "code",
      "source": [
        "plt.figure(figsize=(20,16))\n",
        "plt.subplot(231)\n",
        "plt.xticks(rotation=15)\n",
        "plt.title('payment mode')\n",
        "sns.barplot(x=a7.index,y=a7.values,data=data,palette=\"rocket\")"
      ],
      "metadata": {
        "colab": {
          "base_uri": "https://localhost:8080/",
          "height": 515
        },
        "id": "oAv9HtN3TjX6",
        "outputId": "87cd80d2-9433-4cf2-8601-c7ebd1a179bc"
      },
      "execution_count": 43,
      "outputs": [
        {
          "output_type": "execute_result",
          "data": {
            "text/plain": [
              "<matplotlib.axes._subplots.AxesSubplot at 0x7f4bf4661310>"
            ]
          },
          "metadata": {},
          "execution_count": 43
        },
        {
          "output_type": "display_data",
          "data": {
            "text/plain": [
              "<Figure size 1440x1152 with 1 Axes>"
            ],
            "image/png": "[encoded data removed]"
          },
          "metadata": {}
        }
      ]
    },
    {
      "cell_type": "code",
      "source": [
        "data2=data.groupby(['Coupon code','Payment Status'])['Product Amount with GST'].sum() .reset_index()\n",
        "data2"
      ],
      "metadata": {
        "colab": {
          "base_uri": "https://localhost:8080/",
          "height": 424
        },
        "id": "X7uoP2eFErEK",
        "outputId": "a00a09fb-2e81-496b-8ab5-4c2fd0ece9a6"
      },
      "execution_count": 40,
      "outputs": [
        {
          "output_type": "execute_result",
          "data": {
            "text/plain": [
              "    Coupon code Payment Status  Product Amount with GST\n",
              "0             0      Initiated              10590512.00\n",
              "1             0           paid               2033642.94\n",
              "2             0         refund                 41863.00\n",
              "3       Coupon1      Initiated                251303.00\n",
              "4       Coupon1           paid                111522.00\n",
              "..          ...            ...                      ...\n",
              "108    Coupon91           paid                  1619.00\n",
              "109    Coupon92      Initiated                  1499.00\n",
              "110    Coupon93           paid                    51.00\n",
              "111    Coupon93         refund                   503.68\n",
              "112    Coupon94           paid                     7.92\n",
              "\n",
              "[113 rows x 3 columns]"
            ],
            "text/html": [
              "\n",
              "  <div id=\"df-fe0a2038-cbfe-4a10-84f0-95106bf19b11\">\n",
              "    <div class=\"colab-df-container\">\n",
              "      <div>\n",
              "<style scoped>\n",
              "    .dataframe tbody tr th:only-of-type {\n",
              "        vertical-align: middle;\n",
              "    }\n",
              "\n",
              "    .dataframe tbody tr th {\n",
              "        vertical-align: top;\n",
              "    }\n",
              "\n",
              "    .dataframe thead th {\n",
              "        text-align: right;\n",
              "    }\n",
              "</style>\n",
              "<table border=\"1\" class=\"dataframe\">\n",
              "  <thead>\n",
              "    <tr style=\"text-align: right;\">\n",
              "      <th></th>\n",
              "      <th>Coupon code</th>\n",
              "      <th>Payment Status</th>\n",
              "      <th>Product Amount with GST</th>\n",
              "    </tr>\n",
              "  </thead>\n",
              "  <tbody>\n",
              "    <tr>\n",
              "      <th>0</th>\n",
              "      <td>0</td>\n",
              "      <td>Initiated</td>\n",
              "      <td>10590512.00</td>\n",
              "    </tr>\n",
              "    <tr>\n",
              "      <th>1</th>\n",
              "      <td>0</td>\n",
              "      <td>paid</td>\n",
              "      <td>2033642.94</td>\n",
              "    </tr>\n",
              "    <tr>\n",
              "      <th>2</th>\n",
              "      <td>0</td>\n",
              "      <td>refund</td>\n",
              "      <td>41863.00</td>\n",
              "    </tr>\n",
              "    <tr>\n",
              "      <th>3</th>\n",
              "      <td>Coupon1</td>\n",
              "      <td>Initiated</td>\n",
              "      <td>251303.00</td>\n",
              "    </tr>\n",
              "    <tr>\n",
              "      <th>4</th>\n",
              "      <td>Coupon1</td>\n",
              "      <td>paid</td>\n",
              "      <td>111522.00</td>\n",
              "    </tr>\n",
              "    <tr>\n",
              "      <th>...</th>\n",
              "      <td>...</td>\n",
              "      <td>...</td>\n",
              "      <td>...</td>\n",
              "    </tr>\n",
              "    <tr>\n",
              "      <th>108</th>\n",
              "      <td>Coupon91</td>\n",
              "      <td>paid</td>\n",
              "      <td>1619.00</td>\n",
              "    </tr>\n",
              "    <tr>\n",
              "      <th>109</th>\n",
              "      <td>Coupon92</td>\n",
              "      <td>Initiated</td>\n",
              "      <td>1499.00</td>\n",
              "    </tr>\n",
              "    <tr>\n",
              "      <th>110</th>\n",
              "      <td>Coupon93</td>\n",
              "      <td>paid</td>\n",
              "      <td>51.00</td>\n",
              "    </tr>\n",
              "    <tr>\n",
              "      <th>111</th>\n",
              "      <td>Coupon93</td>\n",
              "      <td>refund</td>\n",
              "      <td>503.68</td>\n",
              "    </tr>\n",
              "    <tr>\n",
              "      <th>112</th>\n",
              "      <td>Coupon94</td>\n",
              "      <td>paid</td>\n",
              "      <td>7.92</td>\n",
              "    </tr>\n",
              "  </tbody>\n",
              "</table>\n",
              "<p>113 rows × 3 columns</p>\n",
              "</div>\n",
              "      <button class=\"colab-df-convert\" onclick=\"convertToInteractive('df-fe0a2038-cbfe-4a10-84f0-95106bf19b11')\"\n",
              "              title=\"Convert this dataframe to an interactive table.\"\n",
              "              style=\"display:none;\">\n",
              "        \n",
              "  <svg xmlns=\"http://www.w3.org/2000/svg\" height=\"24px\"viewBox=\"0 0 24 24\"\n",
              "       width=\"24px\">\n",
              "    <path d=\"M0 0h24v24H0V0z\" fill=\"none\"/>\n",
              "    <path d=\"M18.56 5.44l.94 2.06.94-2.06 2.06-.94-2.06-.94-.94-2.06-.94 2.06-2.06.94zm-11 1L8.5 8.5l.94-2.06 2.06-.94-2.06-.94L8.5 2.5l-.94 2.06-2.06.94zm10 10l.94 2.06.94-2.06 2.06-.94-2.06-.94-.94-2.06-.94 2.06-2.06.94z\"/><path d=\"M17.41 7.96l-1.37-1.37c-.4-.4-.92-.59-1.43-.59-.52 0-1.04.2-1.43.59L10.3 9.45l-7.72 7.72c-.78.78-.78 2.05 0 2.83L4 21.41c.39.39.9.59 1.41.59.51 0 1.02-.2 1.41-.59l7.78-7.78 2.81-2.81c.8-.78.8-2.07 0-2.86zM5.41 20L4 18.59l7.72-7.72 1.47 1.35L5.41 20z\"/>\n",
              "  </svg>\n",
              "      </button>\n",
              "      \n",
              "  <style>\n",
              "    .colab-df-container {\n",
              "      display:flex;\n",
              "      flex-wrap:wrap;\n",
              "      gap: 12px;\n",
              "    }\n",
              "\n",
              "    .colab-df-convert {\n",
              "      background-color: #E8F0FE;\n",
              "      border: none;\n",
              "      border-radius: 50%;\n",
              "      cursor: pointer;\n",
              "      display: none;\n",
              "      fill: #1967D2;\n",
              "      height: 32px;\n",
              "      padding: 0 0 0 0;\n",
              "      width: 32px;\n",
              "    }\n",
              "\n",
              "    .colab-df-convert:hover {\n",
              "      background-color: #E2EBFA;\n",
              "      box-shadow: 0px 1px 2px rgba(60, 64, 67, 0.3), 0px 1px 3px 1px rgba(60, 64, 67, 0.15);\n",
              "      fill: #174EA6;\n",
              "    }\n",
              "\n",
              "    [theme=dark] .colab-df-convert {\n",
              "      background-color: #3B4455;\n",
              "      fill: #D2E3FC;\n",
              "    }\n",
              "\n",
              "    [theme=dark] .colab-df-convert:hover {\n",
              "      background-color: #434B5C;\n",
              "      box-shadow: 0px 1px 3px 1px rgba(0, 0, 0, 0.15);\n",
              "      filter: drop-shadow(0px 1px 2px rgba(0, 0, 0, 0.3));\n",
              "      fill: #FFFFFF;\n",
              "    }\n",
              "  </style>\n",
              "\n",
              "      <script>\n",
              "        const buttonEl =\n",
              "          document.querySelector('#df-fe0a2038-cbfe-4a10-84f0-95106bf19b11 button.colab-df-convert');\n",
              "        buttonEl.style.display =\n",
              "          google.colab.kernel.accessAllowed ? 'block' : 'none';\n",
              "\n",
              "        async function convertToInteractive(key) {\n",
              "          const element = document.querySelector('#df-fe0a2038-cbfe-4a10-84f0-95106bf19b11');\n",
              "          const dataTable =\n",
              "            await google.colab.kernel.invokeFunction('convertToInteractive',\n",
              "                                                     [key], {});\n",
              "          if (!dataTable) return;\n",
              "\n",
              "          const docLinkHtml = 'Like what you see? Visit the ' +\n",
              "            '<a target=\"_blank\" href=https://colab.research.google.com/notebooks/data_table.ipynb>data table notebook</a>'\n",
              "            + ' to learn more about interactive tables.';\n",
              "          element.innerHTML = '';\n",
              "          dataTable['output_type'] = 'display_data';\n",
              "          await google.colab.output.renderOutput(dataTable, element);\n",
              "          const docLink = document.createElement('div');\n",
              "          docLink.innerHTML = docLinkHtml;\n",
              "          element.appendChild(docLink);\n",
              "        }\n",
              "      </script>\n",
              "    </div>\n",
              "  </div>\n",
              "  "
            ]
          },
          "metadata": {},
          "execution_count": 40
        }
      ]
    },
    {
      "cell_type": "code",
      "source": [
        "sns.set_theme(style=\"whitegrid\", palette=\"RdPu\",)\n",
        "plt.figure(figsize=(20,16))\n",
        "plt.subplot(231)\n",
        "sns.barplot(x='Source',y='Product Amount with GST',data=data,order=data.groupby('Source')['Product Amount with GST'].mean().reset_index().sort_values('Product Amount with GST')['Source'])\n",
        "plt.xticks(rotation=15)\n",
        "plt.title('PRODUCT AMOUNT vs SOURCE')"
      ],
      "metadata": {
        "colab": {
          "base_uri": "https://localhost:8080/",
          "height": 510
        },
        "id": "fkzW75a1uxS8",
        "outputId": "9fde7336-30cf-4dc2-b3fa-710e323f6f99"
      },
      "execution_count": 41,
      "outputs": [
        {
          "output_type": "execute_result",
          "data": {
            "text/plain": [
              "Text(0.5, 1.0, 'PRODUCT AMOUNT vs SOURCE')"
            ]
          },
          "metadata": {},
          "execution_count": 41
        },
        {
          "output_type": "display_data",
          "data": {
            "text/plain": [
              "<Figure size 1440x1152 with 1 Axes>"
            ],
            "image/png": "[encoded data removed]"
          },
          "metadata": {}
        }
      ]
    },
    {
      "cell_type": "markdown",
      "source": [
        "#from the graph we get \n",
        "\n",
        "throught email and paid promotion source we high revenue in this two month\n"
      ],
      "metadata": {
        "id": "rvfnPdHdAOoK"
      }
    },
    {
      "cell_type": "code",
      "source": [
        "sns.set_theme(style=\"whitegrid\", palette=\"RdPu\",)\n",
        "plt.figure(figsize=(20,16))\n",
        "plt.subplot(231)\n",
        "sns.barplot(x='Payment Status',y='Product Amount with GST',data=data,order=data.groupby('Payment Status')['Product Amount with GST'].mean().reset_index().sort_values('Product Amount with GST')['Payment Status'])\n",
        "plt.xticks(rotation=15)\n",
        "plt.title('PRODUCT AMOUNT vs PAYMENT STATUS')"
      ],
      "metadata": {
        "colab": {
          "base_uri": "https://localhost:8080/",
          "height": 507
        },
        "id": "-vXE5GzT-4SR",
        "outputId": "2338dc4a-0927-4040-d0eb-9d0ae9850578"
      },
      "execution_count": 42,
      "outputs": [
        {
          "output_type": "execute_result",
          "data": {
            "text/plain": [
              "Text(0.5, 1.0, 'PRODUCT AMOUNT vs PAYMENT STATUS')"
            ]
          },
          "metadata": {},
          "execution_count": 42
        },
        {
          "output_type": "display_data",
          "data": {
            "text/plain": [
              "<Figure size 1440x1152 with 1 Axes>"
            ],
            "image/png": "[encoded data removed]"
          },
          "metadata": {}
        }
      ]
    },
    {
      "cell_type": "code",
      "source": [
        ""
      ],
      "metadata": {
        "id": "44zk2mqGBAv2"
      },
      "execution_count": 42,
      "outputs": []
    },
    {
      "cell_type": "markdown",
      "source": [
        "![report.jpg](data:image/jpeg;base64,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)"
      ],
      "metadata": {
        "id": "I_2CJERXMqhc"
      }
    },
    {
      "cell_type": "code",
      "source": [
        ""
      ],
      "metadata": {
        "id": "oFWZeeFjNad4"
      },
      "execution_count": 42,
      "outputs": []
    },
    {
      "cell_type": "markdown",
      "source": [
        "# SALES REPORT OF LAST TWO MONTHS\n",
        "\n",
        "* TOTAL NUMBERS OF USERS ARE INCREASED IN 7th MONTH COMPARE TO 6th MONTH \n",
        " \n",
        "* SO THE REVENU ALSO INCREASED . TOTAL REVENUM FROM BOTH MONTH =13936378 CR \n",
        "\n",
        "* HIGHLY SOLD PRODUCT IS PRODUCT1 = 1272, PRODUCT 10= 360 \n",
        "\n",
        "\n",
        "* MOST OF PAYMENT MODE DONE BY DD AND THEN FLOW THAT UPI HAS 2nd PLACE\n",
        "\n",
        "*  MOST OF USER( 8852) NOT USED Coupon code \n",
        "\n",
        "* TOTAL COUPON USED IS 662 OUT OF 9514\n",
        "\n",
        "*  AND MOST OF PRODUCT SOLD BY DIRCT SOURCE AND FOLLWED BY THAT INFLUENCER AS SOLD THE PRODUCT\n",
        "\n",
        "* BUT HIGH  REVENUE  GENERATED  BY EMAIL AND PADI PROMOTION ONLY\n",
        "\n",
        "      \n",
        "                                 **** THANKING YOU *****"
      ],
      "metadata": {
        "id": "z4V0Lto0NeET"
      }
    },
    {
      "cell_type": "code",
      "source": [
        ""
      ],
      "metadata": {
        "id": "ec4vKIzWYXDH"
      },
      "execution_count": 42,
      "outputs": []
    }
  ]
}